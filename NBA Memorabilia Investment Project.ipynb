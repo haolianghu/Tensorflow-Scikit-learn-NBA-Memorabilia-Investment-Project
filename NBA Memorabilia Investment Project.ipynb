{
  "cells": [
    {
      "attachments": {},
      "cell_type": "markdown",
      "metadata": {
        "id": "vN6PyCB8XaHm"
      },
      "source": [
        "# Machine Learning for Basketball Memorabilia Investments\n",
        "We will use real data on past basketball players to use ML to inform memorabilia investment decisions.\n",
        "\n",
        "We are provided with data on past players that includes 27 different predictors/attributes on each player. Note that the attribute names are often abbreviated and the complete list is included at the end of this notebook.\n",
        "\n",
        "We will use the historical data set, Hall-of-fame-train.arff (495 players), to build a classification model predicting whether or not a given player will be inducted (and the probability thereof). We will then apply our model to select players to invest in. The goal of this assignment is to develop hands-on experience in developing and evaluating machine learning models to inform interventions (investment decisions in this case) and to maximize profitability.\n",
        "\n",
        "The data set includes a target variable (i.e., the class) which indicates whether or not the player has been inducted to the hall of fame. Note that in this data set, we assume that a player who has not been inducted 45.4 years after retirement, will not be inducted. The target variable is binary and has value 1 if the player has been inducted or 0 otherwise. Note that the data includes the actual target variable value for each player."
      ]
    },
    {
      "attachments": {},
      "cell_type": "markdown",
      "metadata": {
        "id": "ozIS0fRqazUM"
      },
      "source": [
        "## 1. Read in Libraries and NBA data"
      ]
    },
    {
      "cell_type": "code",
      "execution_count": 1,
      "metadata": {
        "colab": {
          "base_uri": "https://localhost:8080/"
        },
        "id": "0ZhweD9VWyGK",
        "outputId": "64ba7215-4d9b-4535-d11b-bfe08f6d01ea"
      },
      "outputs": [
        {
          "name": "stdout",
          "output_type": "stream",
          "text": [
            "Requirement already satisfied: liac-arff in c:\\users\\jack\\appdata\\local\\programs\\python\\python310\\lib\\site-packages (2.5.0)\n"
          ]
        },
        {
          "name": "stderr",
          "output_type": "stream",
          "text": [
            "\n",
            "[notice] A new release of pip is available: 23.0 -> 23.1.1\n",
            "[notice] To update, run: python.exe -m pip install --upgrade pip\n"
          ]
        }
      ],
      "source": [
        "!pip install liac-arff"
      ]
    },
    {
      "cell_type": "code",
      "execution_count": 2,
      "metadata": {
        "id": "_h8ypgvQV4nT"
      },
      "outputs": [],
      "source": [
        "# import libraries\n",
        "import numpy as np\n",
        "import pandas as pd\n",
        "import matplotlib.pyplot as plt\n",
        "import requests\n",
        "import arff"
      ]
    },
    {
      "cell_type": "code",
      "execution_count": 3,
      "metadata": {
        "id": "4CFblbP_XsTq"
      },
      "outputs": [],
      "source": [
        "# get data from online\n",
        "df_arff = requests.get('https://utexas.box.com/shared/static/u8s1nl2c8b3ijv94z7npg7jl0drml5u0.arff')\n",
        "\n",
        "# read as arff file\n",
        "df_arff = arff.load(df_arff.text)\n",
        "col_val = [attribute[0] for attribute in df_arff['attributes']]\n",
        "\n",
        "# transform arff file into pandas dataframe\n",
        "new_df = pd.DataFrame(df_arff['data'], columns = col_val)\n",
        "meta = df_arff['attributes']\n",
        "\n",
        "def clean_df(df):\n",
        "  cols = list(df.columns)\n",
        "  for col in cols:\n",
        "    try:\n",
        "      df = df.replace({col: {'1': True, '0': False}})\n",
        "    except:\n",
        "      pass\n",
        "    pass\n",
        "  return df\n",
        "\n",
        "new_df = clean_df(new_df)\n",
        "new_df = pd.get_dummies(new_df)"
      ]
    },
    {
      "cell_type": "code",
      "execution_count": 4,
      "metadata": {
        "colab": {
          "base_uri": "https://localhost:8080/",
          "height": 423
        },
        "id": "0rjIAejk52Kl",
        "outputId": "ac1923b7-4072-44cd-f606-df60fe849b25"
      },
      "outputs": [
        {
          "data": {
            "text/html": [
              "<div>\n",
              "<style scoped>\n",
              "    .dataframe tbody tr th:only-of-type {\n",
              "        vertical-align: middle;\n",
              "    }\n",
              "\n",
              "    .dataframe tbody tr th {\n",
              "        vertical-align: top;\n",
              "    }\n",
              "\n",
              "    .dataframe thead th {\n",
              "        text-align: right;\n",
              "    }\n",
              "</style>\n",
              "<table border=\"1\" class=\"dataframe\">\n",
              "  <thead>\n",
              "    <tr style=\"text-align: right;\">\n",
              "      <th></th>\n",
              "      <th>games</th>\n",
              "      <th>minutes</th>\n",
              "      <th>pts</th>\n",
              "      <th>offReb</th>\n",
              "      <th>defReb</th>\n",
              "      <th>reb</th>\n",
              "      <th>asts</th>\n",
              "      <th>stl</th>\n",
              "      <th>blk</th>\n",
              "      <th>turnover</th>\n",
              "      <th>...</th>\n",
              "      <th>firstSeason</th>\n",
              "      <th>lastSeason</th>\n",
              "      <th>careerEnded</th>\n",
              "      <th>yrsRetired2004</th>\n",
              "      <th>class</th>\n",
              "      <th>league_A</th>\n",
              "      <th>league_N</th>\n",
              "      <th>Position_C</th>\n",
              "      <th>Position_F</th>\n",
              "      <th>Position_G</th>\n",
              "    </tr>\n",
              "  </thead>\n",
              "  <tbody>\n",
              "    <tr>\n",
              "      <th>0</th>\n",
              "      <td>408.0</td>\n",
              "      <td>9825.0</td>\n",
              "      <td>5232.0</td>\n",
              "      <td>476.0</td>\n",
              "      <td>824.0</td>\n",
              "      <td>1300.0</td>\n",
              "      <td>866.0</td>\n",
              "      <td>265.0</td>\n",
              "      <td>175.0</td>\n",
              "      <td>700.0</td>\n",
              "      <td>...</td>\n",
              "      <td>1982.0</td>\n",
              "      <td>1990.0</td>\n",
              "      <td>1.0</td>\n",
              "      <td>14.0</td>\n",
              "      <td>False</td>\n",
              "      <td>0</td>\n",
              "      <td>1</td>\n",
              "      <td>0</td>\n",
              "      <td>0</td>\n",
              "      <td>1</td>\n",
              "    </tr>\n",
              "    <tr>\n",
              "      <th>1</th>\n",
              "      <td>51.0</td>\n",
              "      <td>0.0</td>\n",
              "      <td>587.0</td>\n",
              "      <td>0.0</td>\n",
              "      <td>0.0</td>\n",
              "      <td>0.0</td>\n",
              "      <td>158.0</td>\n",
              "      <td>0.0</td>\n",
              "      <td>0.0</td>\n",
              "      <td>0.0</td>\n",
              "      <td>...</td>\n",
              "      <td>1949.0</td>\n",
              "      <td>1949.0</td>\n",
              "      <td>1.0</td>\n",
              "      <td>55.0</td>\n",
              "      <td>False</td>\n",
              "      <td>0</td>\n",
              "      <td>1</td>\n",
              "      <td>0</td>\n",
              "      <td>0</td>\n",
              "      <td>1</td>\n",
              "    </tr>\n",
              "    <tr>\n",
              "      <th>2</th>\n",
              "      <td>265.0</td>\n",
              "      <td>0.0</td>\n",
              "      <td>1712.0</td>\n",
              "      <td>0.0</td>\n",
              "      <td>0.0</td>\n",
              "      <td>72.0</td>\n",
              "      <td>311.0</td>\n",
              "      <td>0.0</td>\n",
              "      <td>0.0</td>\n",
              "      <td>0.0</td>\n",
              "      <td>...</td>\n",
              "      <td>1946.0</td>\n",
              "      <td>1950.0</td>\n",
              "      <td>1.0</td>\n",
              "      <td>54.0</td>\n",
              "      <td>False</td>\n",
              "      <td>0</td>\n",
              "      <td>1</td>\n",
              "      <td>0</td>\n",
              "      <td>0</td>\n",
              "      <td>1</td>\n",
              "    </tr>\n",
              "    <tr>\n",
              "      <th>3</th>\n",
              "      <td>133.0</td>\n",
              "      <td>2587.0</td>\n",
              "      <td>992.0</td>\n",
              "      <td>55.0</td>\n",
              "      <td>198.0</td>\n",
              "      <td>253.0</td>\n",
              "      <td>291.0</td>\n",
              "      <td>123.0</td>\n",
              "      <td>14.0</td>\n",
              "      <td>207.0</td>\n",
              "      <td>...</td>\n",
              "      <td>2003.0</td>\n",
              "      <td>2004.0</td>\n",
              "      <td>0.0</td>\n",
              "      <td>0.0</td>\n",
              "      <td>False</td>\n",
              "      <td>0</td>\n",
              "      <td>1</td>\n",
              "      <td>0</td>\n",
              "      <td>0</td>\n",
              "      <td>1</td>\n",
              "    </tr>\n",
              "    <tr>\n",
              "      <th>4</th>\n",
              "      <td>8.0</td>\n",
              "      <td>28.0</td>\n",
              "      <td>7.0</td>\n",
              "      <td>0.0</td>\n",
              "      <td>2.0</td>\n",
              "      <td>2.0</td>\n",
              "      <td>0.0</td>\n",
              "      <td>0.0</td>\n",
              "      <td>0.0</td>\n",
              "      <td>1.0</td>\n",
              "      <td>...</td>\n",
              "      <td>2004.0</td>\n",
              "      <td>2004.0</td>\n",
              "      <td>0.0</td>\n",
              "      <td>0.0</td>\n",
              "      <td>False</td>\n",
              "      <td>0</td>\n",
              "      <td>1</td>\n",
              "      <td>0</td>\n",
              "      <td>0</td>\n",
              "      <td>1</td>\n",
              "    </tr>\n",
              "  </tbody>\n",
              "</table>\n",
              "<p>5 rows × 28 columns</p>\n",
              "</div>"
            ],
            "text/plain": [
              "   games  minutes     pts  offReb  defReb     reb   asts    stl    blk  \\\n",
              "0  408.0   9825.0  5232.0   476.0   824.0  1300.0  866.0  265.0  175.0   \n",
              "1   51.0      0.0   587.0     0.0     0.0     0.0  158.0    0.0    0.0   \n",
              "2  265.0      0.0  1712.0     0.0     0.0    72.0  311.0    0.0    0.0   \n",
              "3  133.0   2587.0   992.0    55.0   198.0   253.0  291.0  123.0   14.0   \n",
              "4    8.0     28.0     7.0     0.0     2.0     2.0    0.0    0.0    0.0   \n",
              "\n",
              "   turnover  ...  firstSeason  lastSeason  careerEnded  yrsRetired2004  class  \\\n",
              "0     700.0  ...       1982.0      1990.0          1.0            14.0  False   \n",
              "1       0.0  ...       1949.0      1949.0          1.0            55.0  False   \n",
              "2       0.0  ...       1946.0      1950.0          1.0            54.0  False   \n",
              "3     207.0  ...       2003.0      2004.0          0.0             0.0  False   \n",
              "4       1.0  ...       2004.0      2004.0          0.0             0.0  False   \n",
              "\n",
              "   league_A  league_N  Position_C  Position_F  Position_G  \n",
              "0         0         1           0           0           1  \n",
              "1         0         1           0           0           1  \n",
              "2         0         1           0           0           1  \n",
              "3         0         1           0           0           1  \n",
              "4         0         1           0           0           1  \n",
              "\n",
              "[5 rows x 28 columns]"
            ]
          },
          "execution_count": 4,
          "metadata": {},
          "output_type": "execute_result"
        }
      ],
      "source": [
        "new_df.head()"
      ]
    },
    {
      "cell_type": "code",
      "execution_count": 5,
      "metadata": {},
      "outputs": [
        {
          "data": {
            "text/plain": [
              "games              408.0\n",
              "minutes           9825.0\n",
              "pts               5232.0\n",
              "offReb             476.0\n",
              "defReb             824.0\n",
              "reb               1300.0\n",
              "asts               866.0\n",
              "stl                265.0\n",
              "blk                175.0\n",
              "turnover           700.0\n",
              "pf                1214.0\n",
              "fga               4074.0\n",
              "fgm               2031.0\n",
              "fta               1495.0\n",
              "ftm               1125.0\n",
              "tpa                153.0\n",
              "tpm                 45.0\n",
              "totalSeasons         9.0\n",
              "firstSeason       1982.0\n",
              "lastSeason        1990.0\n",
              "careerEnded          1.0\n",
              "yrsRetired2004      14.0\n",
              "class              False\n",
              "league_A               0\n",
              "league_N               1\n",
              "Position_C             0\n",
              "Position_F             0\n",
              "Position_G             1\n",
              "Name: 0, dtype: object"
            ]
          },
          "execution_count": 5,
          "metadata": {},
          "output_type": "execute_result"
        }
      ],
      "source": [
        "new_df.iloc[0]"
      ]
    },
    {
      "attachments": {},
      "cell_type": "markdown",
      "metadata": {
        "id": "woJFSiGJakvH"
      },
      "source": [
        "## 2. Exploring the Data"
      ]
    },
    {
      "attachments": {},
      "cell_type": "markdown",
      "metadata": {
        "id": "6TJ5g-2ZYbsl"
      },
      "source": [
        "**2.1 Building, Evaluating, and Comparing Different Machine Learning Models**"
      ]
    },
    {
      "attachments": {},
      "cell_type": "markdown",
      "metadata": {},
      "source": [
        "Note: this section can take around 100 minutes to run."
      ]
    },
    {
      "cell_type": "code",
      "execution_count": 6,
      "metadata": {},
      "outputs": [],
      "source": [
        "from sklearn.tree import DecisionTreeClassifier\n",
        "from sklearn.ensemble import BaggingClassifier, RandomForestClassifier\n",
        "from sklearn.naive_bayes import MultinomialNB\n",
        "from sklearn.neighbors import KNeighborsClassifier\n",
        "# GridSearchCV is used to find the best parameters for a model\n",
        "from sklearn.model_selection import GridSearchCV\n",
        "# StratifiedKFold is used to split the data into folds for cross validation\n",
        "# The folds are balanced by class, removing the possibility of having a fold with imbalanced classes\n",
        "from sklearn.model_selection import StratifiedKFold\n",
        "\n",
        "\n",
        "\n",
        "# Split the data into features and target\n",
        "# Don't need to split the data into training and testing sets yet because we are already doing 10-fold cross validation\n",
        "# We will split the data into training and testing sets later on to mimic a real-world scenario since we don't have a given testing set\n",
        "# A test set should still be held out for final evaluation, but the validation set is no longer needed when doing CV\n",
        "X = new_df.drop(columns='class')\n",
        "y = new_df['class']\n",
        "\n",
        "\n",
        "\n",
        "# Build and compare the results of different models using 10-fold cross validation (with results displayed for each)\n",
        "# Test out different parameters of each model to try and generate the best result\n",
        "# We use StratifiedKFold so we can yield the same results every time with GridSearchCV\n",
        "folds = StratifiedKFold(n_splits=10, random_state=3, shuffle=True)\n",
        "classification_accuracies = {}\n",
        "roc_auc_scores = {}"
      ]
    },
    {
      "cell_type": "code",
      "execution_count": 7,
      "metadata": {
        "colab": {
          "base_uri": "https://localhost:8080/"
        },
        "id": "ewXUKCRXYlVK",
        "outputId": "4e03f8d5-7782-4107-af59-6458f47d92fc"
      },
      "outputs": [
        {
          "name": "stdout",
          "output_type": "stream",
          "text": [
            "Best parameters for decision tree if using classification accuracy as performance metrics:  {'criterion': 'gini', 'max_depth': 5, 'max_features': 0.2, 'min_samples_leaf': 2, 'min_samples_split': 6}\n",
            "Best classification accuracy for decision tree:  0.9736734693877551\n",
            "Best parameters for decision tree if using ROC AUC as performance metrics:  {'criterion': 'gini', 'max_depth': 4, 'max_features': 0.6, 'min_samples_leaf': 7, 'min_samples_split': 2}\n",
            "Best ROC AUC for decision tree:  0.953111111111111\n",
            "\n"
          ]
        }
      ],
      "source": [
        "# Decision Tree\n",
        "dt = DecisionTreeClassifier(random_state=3)\n",
        "# Using GridSearchCV to find the best parameters for the decision tree\n",
        "dt_params = {'criterion': ['gini', 'entropy'], 'min_samples_split': [2, 3, 4, 5, 6, 7, 8, 9, 10], 'min_samples_leaf': [1, 2, 3, 4, 5, 6, 7, 8, 9, 10], \n",
        "             'max_depth': [2, 3, 4, 5, 6, 7, 8, 9, 10], 'max_features': [0.1, 0.2, 0.3, 0.4, 0.5, 0.6, 0.7, 0.8, 0.9]}\n",
        "# Using GridSearchCV to find the best parameters for the decision tree based on the classificaiton accuracy\n",
        "dt_grid = GridSearchCV(dt, dt_params, cv=folds, scoring='accuracy')\n",
        "dt_grid.fit(X, y)\n",
        "print('Best parameters for decision tree if using classification accuracy as performance metrics: ', dt_grid.best_params_)\n",
        "print('Best classification accuracy for decision tree: ', dt_grid.best_score_)\n",
        "classification_accuracies['Decision Tree'] = dt_grid.best_score_\n",
        "# Using GridSearchCV to find the best parameters for the decision tree based on the ROC AUC\n",
        "dt_grid_roc = GridSearchCV(dt, dt_params, cv=folds, scoring='roc_auc')\n",
        "dt_grid_roc.fit(X, y)\n",
        "print('Best parameters for decision tree if using ROC AUC as performance metrics: ', dt_grid_roc.best_params_)\n",
        "print('Best ROC AUC for decision tree: ', dt_grid_roc.best_score_)\n",
        "roc_auc_scores['Decision Tree'] = dt_grid_roc.best_score_\n",
        "print()"
      ]
    },
    {
      "cell_type": "code",
      "execution_count": 8,
      "metadata": {},
      "outputs": [
        {
          "name": "stdout",
          "output_type": "stream",
          "text": [
            "Best parameters for multinomial naive bayes if using classification accuracy as performance metrics:  {'alpha': 0.01}\n",
            "Best classification accuracy for multinomial naive bayes:  0.8907346938775509\n",
            "Best parameters for multinomial naive bayes if using ROC AUC as performance metrics:  {'alpha': 0.01}\n",
            "Best ROC AUC for multinomial naive bayes:  0.9007222222222222\n",
            "\n"
          ]
        }
      ],
      "source": [
        "# Multinomial Naive Bayes\n",
        "mnb = MultinomialNB(force_alpha=True)\n",
        "# Using GridSearchCV to find the best parameters for the multinomial naive bayes\n",
        "mnb_params = {'alpha': [0.01, 0.1, 0.2, 0.3, 0.4, 0.5, 0.6, 0.7, 0.8, 0.9, 1.0]}\n",
        "# Using GridSearchCV to find the best parameters for the multinomial naive bayes based on the classificaiton accuracy\n",
        "mnb_grid = GridSearchCV(mnb, mnb_params, cv=folds, scoring='accuracy')\n",
        "mnb_grid.fit(X, y)\n",
        "print('Best parameters for multinomial naive bayes if using classification accuracy as performance metrics: ', mnb_grid.best_params_)\n",
        "print('Best classification accuracy for multinomial naive bayes: ', mnb_grid.best_score_)\n",
        "classification_accuracies['Multinomial Naive Bayes'] = mnb_grid.best_score_\n",
        "# Using GridSearchCV to find the best parameters for the multinomial naive bayes based on the ROC AUC\n",
        "mnb_grid_roc = GridSearchCV(mnb, mnb_params, cv=folds, scoring='roc_auc')\n",
        "mnb_grid_roc.fit(X, y)\n",
        "print('Best parameters for multinomial naive bayes if using ROC AUC as performance metrics: ', mnb_grid_roc.best_params_)\n",
        "print('Best ROC AUC for multinomial naive bayes: ', mnb_grid_roc.best_score_)\n",
        "roc_auc_scores['Multinomial Naive Bayes'] = mnb_grid_roc.best_score_\n",
        "print()"
      ]
    },
    {
      "cell_type": "code",
      "execution_count": 9,
      "metadata": {},
      "outputs": [
        {
          "name": "stdout",
          "output_type": "stream",
          "text": [
            "Best parameters for K Nearest Neighbors if using classification accuracy as performance metrics:  {'algorithm': 'auto', 'n_neighbors': 5, 'weights': 'uniform'}\n",
            "Best classification accuracy for K Nearest Neighbors:  0.9676326530612245\n",
            "Best parameters for K Nearest Neighbors if using ROC AUC as performance metrics:  {'algorithm': 'auto', 'n_neighbors': 8, 'weights': 'distance'}\n",
            "Best ROC AUC for K Nearest Neighbors:  0.9404444444444444\n",
            "\n"
          ]
        }
      ],
      "source": [
        "# K Nearest Neighbors\n",
        "knn = KNeighborsClassifier()\n",
        "# Using GridSearchCV to find the best parameters for the K Nearest Neighbors\n",
        "knn_params = {'n_neighbors': [1, 2, 3, 4, 5, 6, 7, 8, 9, 10], 'weights': ['uniform', 'distance'], 'algorithm': ['auto', 'ball_tree', 'kd_tree', 'brute']}\n",
        "# Using GridSearchCV to find the best parameters for the K Nearest Neighbors based on the classificaiton accuracy\n",
        "knn_grid = GridSearchCV(knn, knn_params, cv=folds, scoring='accuracy')\n",
        "knn_grid.fit(X, y)\n",
        "print('Best parameters for K Nearest Neighbors if using classification accuracy as performance metrics: ', knn_grid.best_params_)\n",
        "print('Best classification accuracy for K Nearest Neighbors: ', knn_grid.best_score_)\n",
        "classification_accuracies['K Nearest Neighbors'] = knn_grid.best_score_\n",
        "# Using GridSearchCV to find the best parameters for the K Nearest Neighbors based on the ROC AUC\n",
        "knn_grid_roc = GridSearchCV(knn, knn_params, cv=folds, scoring='roc_auc')\n",
        "knn_grid_roc.fit(X, y)\n",
        "print('Best parameters for K Nearest Neighbors if using ROC AUC as performance metrics: ', knn_grid_roc.best_params_)\n",
        "print('Best ROC AUC for K Nearest Neighbors: ', knn_grid_roc.best_score_)\n",
        "roc_auc_scores['K Nearest Neighbors'] = knn_grid_roc.best_score_\n",
        "print()"
      ]
    },
    {
      "cell_type": "code",
      "execution_count": 10,
      "metadata": {},
      "outputs": [
        {
          "name": "stdout",
          "output_type": "stream",
          "text": [
            "Best parameters for bagging with decision tree as base estimator if using classification accuracy as performance metrics:  {'max_features': 0.7, 'max_samples': 1.0, 'n_estimators': 10}\n",
            "Best classification accuracy for bagging with decision tree as base estimator:  0.9757551020408164\n",
            "Best parameters for bagging with decision tree as base estimator if using ROC AUC as performance metrics:  {'max_features': 1.0, 'max_samples': 0.4, 'n_estimators': 20}\n",
            "Best ROC AUC for bagging with decision tree as base estimator:  0.9801111111111112\n",
            "\n",
            "Best parameters for bagging with multinomial naive bayes as base estimator if using classification accuracy as performance metrics:  {'max_features': 0.1, 'max_samples': 0.2, 'n_estimators': 10}\n",
            "Best classification accuracy for bagging with multinomial naive bayes as base estimator:  0.9475102040816326\n",
            "Best parameters for bagging with multinomial naive bayes as base estimator if using ROC AUC as performance metrics:  {'max_features': 0.1, 'max_samples': 0.8, 'n_estimators': 40}\n",
            "Best ROC AUC for bagging with multinomial naive bayes as base estimator:  0.967\n",
            "\n",
            "Best parameters for bagging with K Nearest Neighbors as base estimator if using classification accuracy as performance metrics:  {'max_features': 0.2, 'max_samples': 0.9, 'n_estimators': 20}\n",
            "Best classification accuracy for bagging with K Nearest Neighbors as base estimator:  0.969673469387755\n",
            "Best parameters for bagging with K Nearest Neighbors as base estimator if using ROC AUC as performance metrics:  {'max_features': 0.2, 'max_samples': 1.0, 'n_estimators': 20}\n",
            "Best ROC AUC for bagging with K Nearest Neighbors as base estimator:  0.9765555555555554\n",
            "\n"
          ]
        }
      ],
      "source": [
        "# Bagging with Decision Tree as base estimator\n",
        "# Best decision tree with the best parameters\n",
        "dt_best = DecisionTreeClassifier(criterion='gini', max_depth=4, max_features=0.6, min_samples_leaf=7, min_samples_split=2, random_state=3)\n",
        "bag = BaggingClassifier(estimator=dt_best, n_estimators=100, random_state=3)\n",
        "# Using GridSearchCV to find the best parameters for the bagging with decision tree as base estimator\n",
        "bag_params = {'n_estimators': [10, 20, 30, 40, 50, 60, 70, 80, 90, 100], 'max_samples': [0.01, 0.1, 0.2, 0.3, 0.4, 0.5, 0.6, 0.7, 0.8, 0.9, 1.0], 'max_features': [0.1, 0.2, 0.3, 0.4, 0.5, 0.6, 0.7, 0.8, 0.9, 1.0]}\n",
        "# Using GridSearchCV to find the best parameters for the bagging with decision tree as base estimator based on the classificaiton accuracy\n",
        "bag_grid = GridSearchCV(bag, bag_params, cv=folds, scoring='accuracy')\n",
        "bag_grid.fit(X, y)\n",
        "print('Best parameters for bagging with decision tree as base estimator if using classification accuracy as performance metrics: ', bag_grid.best_params_)\n",
        "print('Best classification accuracy for bagging with decision tree as base estimator: ', bag_grid.best_score_)\n",
        "classification_accuracies['Bagging with Decision Tree as Base Estimator'] = bag_grid.best_score_\n",
        "# Using GridSearchCV to find the best parameters for the bagging with decision tree as base estimator based on the ROC AUC\n",
        "bag_grid_roc = GridSearchCV(bag, bag_params, cv=folds, scoring='roc_auc')\n",
        "bag_grid_roc.fit(X, y)\n",
        "print('Best parameters for bagging with decision tree as base estimator if using ROC AUC as performance metrics: ', bag_grid_roc.best_params_)\n",
        "print('Best ROC AUC for bagging with decision tree as base estimator: ', bag_grid_roc.best_score_)\n",
        "roc_auc_scores['Bagging with Decision Tree as Base Estimator'] = bag_grid_roc.best_score_\n",
        "print()\n",
        "\n",
        "# Bagging with Multinomial Naive Bayes as base estimator\n",
        "# Best multinomial naive bayes with the best parameters\n",
        "mnb_best = MultinomialNB(force_alpha=True, alpha=0.01)\n",
        "bag_mnb = BaggingClassifier(estimator=mnb_best, n_estimators=100, random_state=3)\n",
        "# Using GridSearchCV to find the best parameters for the bagging with multinomial naive bayes as base estimator\n",
        "bag_mnb_params = {'n_estimators': [10, 20, 30, 40, 50, 60, 70, 80, 90, 100], 'max_samples': [0.1, 0.2, 0.3, 0.4, 0.5, 0.6, 0.7, 0.8, 0.9, 1.0], 'max_features': [0.1, 0.2, 0.3, 0.4, 0.5, 0.6, 0.7, 0.8, 0.9, 1.0]}\n",
        "# Using GridSearchCV to find the best parameters for the bagging with multinomial naive bayes as base estimator based on the classificaiton accuracy\n",
        "bag_mnb_grid = GridSearchCV(bag_mnb, bag_mnb_params, cv=folds, scoring='accuracy')\n",
        "bag_mnb_grid.fit(X, y)\n",
        "print('Best parameters for bagging with multinomial naive bayes as base estimator if using classification accuracy as performance metrics: ', bag_mnb_grid.best_params_)\n",
        "print('Best classification accuracy for bagging with multinomial naive bayes as base estimator: ', bag_mnb_grid.best_score_)\n",
        "classification_accuracies['Bagging with Multinomial Naive Bayes as Base Estimator'] = bag_mnb_grid.best_score_\n",
        "# Using GridSearchCV to find the best parameters for the bagging with multinomial naive bayes as base estimator based on the ROC AUC\n",
        "bag_mnb_grid_roc = GridSearchCV(bag_mnb, bag_mnb_params, cv=folds, scoring='roc_auc')\n",
        "bag_mnb_grid_roc.fit(X, y)\n",
        "print('Best parameters for bagging with multinomial naive bayes as base estimator if using ROC AUC as performance metrics: ', bag_mnb_grid_roc.best_params_)\n",
        "print('Best ROC AUC for bagging with multinomial naive bayes as base estimator: ', bag_mnb_grid_roc.best_score_)\n",
        "roc_auc_scores['Bagging with Multinomial Naive Bayes as Base Estimator'] = bag_mnb_grid_roc.best_score_\n",
        "print()\n",
        "\n",
        "# Bagging with K Nearest Neighbors as base estimator\n",
        "# Best K Nearest Neighbors with the best parameters\n",
        "knn_best = KNeighborsClassifier(algorithm = 'auto', n_neighbors = 8, weights = 'distance')\n",
        "bag_knn = BaggingClassifier(estimator=knn_best, n_estimators=100, random_state=3)\n",
        "# Using GridSearchCV to find the best parameters for the bagging with K Nearest Neighbors as base estimator\n",
        "bag_knn_params = {'n_estimators': [10, 20, 30, 40, 50, 60, 70, 80, 90, 100], 'max_samples': [0.1, 0.2, 0.3, 0.4, 0.5, 0.6, 0.7, 0.8, 0.9, 1.0], 'max_features': [0.1, 0.2, 0.3, 0.4, 0.5, 0.6, 0.7, 0.8, 0.9, 1.0]}\n",
        "# Using GridSearchCV to find the best parameters for the bagging with K Nearest Neighbors as base estimator based on the classificaiton accuracy\n",
        "bag_knn_grid = GridSearchCV(bag_knn, bag_knn_params, cv=folds, scoring='accuracy')\n",
        "bag_knn_grid.fit(X, y)\n",
        "print('Best parameters for bagging with K Nearest Neighbors as base estimator if using classification accuracy as performance metrics: ', bag_knn_grid.best_params_)\n",
        "print('Best classification accuracy for bagging with K Nearest Neighbors as base estimator: ', bag_knn_grid.best_score_)\n",
        "classification_accuracies['Bagging with K Nearest Neighbors as Base Estimator'] = bag_knn_grid.best_score_\n",
        "# Using GridSearchCV to find the best parameters for the bagging with K Nearest Neighbors as base estimator based on the ROC AUC\n",
        "bag_knn_grid_roc = GridSearchCV(bag_knn, bag_knn_params, cv=folds, scoring='roc_auc')\n",
        "bag_knn_grid_roc.fit(X, y)\n",
        "print('Best parameters for bagging with K Nearest Neighbors as base estimator if using ROC AUC as performance metrics: ', bag_knn_grid_roc.best_params_)\n",
        "print('Best ROC AUC for bagging with K Nearest Neighbors as base estimator: ', bag_knn_grid_roc.best_score_)\n",
        "roc_auc_scores['Bagging with K Nearest Neighbors as Base Estimator'] = bag_knn_grid_roc.best_score_\n",
        "print()"
      ]
    },
    {
      "cell_type": "code",
      "execution_count": 7,
      "metadata": {},
      "outputs": [
        {
          "name": "stdout",
          "output_type": "stream",
          "text": [
            "Best parameters for random forest if using classification accuracy as performance metrics:  {'max_depth': 7, 'max_features': 3, 'n_estimators': 80}\n",
            "Best classification accuracy for random forest:  0.9798367346938776\n",
            "Best parameters for random forest if using ROC AUC as performance metrics:  {'max_depth': 7, 'max_features': 7, 'n_estimators': 90}\n",
            "Best ROC AUC for random forest:  0.9862777777777778\n",
            "\n"
          ]
        }
      ],
      "source": [
        "# Random Forest\n",
        "rf = RandomForestClassifier(n_estimators=100, random_state=3)\n",
        "# Using GridSearchCV to find the best parameters for the random forest\n",
        "rf_params = {'n_estimators': [10, 20, 30, 40, 50, 60, 70, 80, 90, 100], 'max_features': [1, 2, 3, 4, 5, 6, 7, 8, 9, 10], 'max_depth': [1, 2, 3, 4, 5, 6, 7, 8, 9, 10]}\n",
        "# Using GridSearchCV to find the best parameters for the random forest based on the classificaiton accuracy\n",
        "rf_grid = GridSearchCV(rf, rf_params, cv=folds, scoring='accuracy')\n",
        "rf_grid.fit(X, y)\n",
        "print('Best parameters for random forest if using classification accuracy as performance metrics: ', rf_grid.best_params_)\n",
        "print('Best classification accuracy for random forest: ', rf_grid.best_score_)\n",
        "classification_accuracies['Random Forest'] = rf_grid.best_score_\n",
        "# Using GridSearchCV to find the best parameters for the random forest based on the ROC AUC\n",
        "rf_grid_roc = GridSearchCV(rf, rf_params, cv=folds, scoring='roc_auc')\n",
        "rf_grid_roc.fit(X, y)\n",
        "print('Best parameters for random forest if using ROC AUC as performance metrics: ', rf_grid_roc.best_params_)\n",
        "print('Best ROC AUC for random forest: ', rf_grid_roc.best_score_)\n",
        "roc_auc_scores['Random Forest'] = rf_grid_roc.best_score_\n",
        "print()"
      ]
    },
    {
      "cell_type": "code",
      "execution_count": 12,
      "metadata": {},
      "outputs": [
        {
          "name": "stdout",
          "output_type": "stream",
          "text": [
            "Best parameters for AdaBoost if using classification accuracy as performance metrics:  {'algorithm': 'SAMME', 'learning_rate': 0.4, 'n_estimators': 30}\n",
            "Best classification accuracy for AdaBoost:  0.9777142857142855\n",
            "Best parameters for AdaBoost if using ROC AUC as performance metrics:  {'algorithm': 'SAMME', 'learning_rate': 0.2, 'n_estimators': 70}\n",
            "Best ROC AUC for AdaBoost:  0.9887777777777778\n",
            "\n"
          ]
        }
      ],
      "source": [
        "# AadaBoost\n",
        "from sklearn.ensemble import AdaBoostClassifier\n",
        "ada = AdaBoostClassifier(estimator=dt_best, n_estimators=100, random_state=3)\n",
        "# Using GridSearchCV to find the best parameters for the AdaBoost\n",
        "ada_params = {'n_estimators': [10, 20, 30, 40, 50, 60, 70, 80, 90, 100], 'learning_rate': [0.1, 0.2, 0.3, 0.4, 0.5], 'algorithm': ['SAMME', 'SAMME.R']}\n",
        "# Using GridSearchCV to find the best parameters for the AdaBoost based on the classificaiton accuracy\n",
        "ada_grid = GridSearchCV(ada, ada_params, cv=folds, scoring='accuracy')\n",
        "ada_grid.fit(X, y)\n",
        "print('Best parameters for AdaBoost if using classification accuracy as performance metrics: ', ada_grid.best_params_)\n",
        "print('Best classification accuracy for AdaBoost: ', ada_grid.best_score_)\n",
        "# Using GridSearchCV to find the best parameters for the AdaBoost based on the ROC AUC\n",
        "ada_grid_roc = GridSearchCV(ada, ada_params, cv=folds, scoring='roc_auc')\n",
        "ada_grid_roc.fit(X, y)\n",
        "print('Best parameters for AdaBoost if using ROC AUC as performance metrics: ', ada_grid_roc.best_params_)\n",
        "print('Best ROC AUC for AdaBoost: ', ada_grid_roc.best_score_)\n",
        "roc_auc_scores['AdaBoost'] = ada_grid_roc.best_score_\n",
        "print()"
      ]
    },
    {
      "cell_type": "code",
      "execution_count": 13,
      "metadata": {},
      "outputs": [
        {
          "name": "stdout",
          "output_type": "stream",
          "text": [
            "Sorted Classification Accuracies:  [('Random Forest', 0.9798367346938776), ('Bagging with Decision Tree as Base Estimator', 0.9757551020408164), ('Decision Tree', 0.9736734693877551), ('Bagging with K Nearest Neighbors as Base Estimator', 0.969673469387755), ('K Nearest Neighbors', 0.9676326530612245), ('Bagging with Multinomial Naive Bayes as Base Estimator', 0.9475102040816326), ('Multinomial Naive Bayes', 0.8907346938775509)]\n",
            "Sorted ROC AUC Scores:  [('AdaBoost', 0.9887777777777778), ('Random Forest', 0.9862777777777778), ('Bagging with Decision Tree as Base Estimator', 0.9801111111111112), ('Bagging with K Nearest Neighbors as Base Estimator', 0.9765555555555554), ('Bagging with Multinomial Naive Bayes as Base Estimator', 0.967), ('Decision Tree', 0.953111111111111), ('K Nearest Neighbors', 0.9404444444444444), ('Multinomial Naive Bayes', 0.9007222222222222)]\n"
          ]
        }
      ],
      "source": [
        "# Sort the classification accuracies in descending order\n",
        "classification_accuracies_sorted = sorted(classification_accuracies.items(), key=lambda x: x[1], reverse=True)\n",
        "# Sort the ROC AUC scores in descending order\n",
        "roc_auc_scores_sorted = sorted(roc_auc_scores.items(), key=lambda x: x[1], reverse=True)\n",
        "# Print the classification accuracies and ROC AUC scores\n",
        "print('Sorted Classification Accuracies: ', classification_accuracies_sorted)\n",
        "print('Sorted ROC AUC Scores: ', roc_auc_scores_sorted)"
      ]
    },
    {
      "attachments": {},
      "cell_type": "markdown",
      "metadata": {},
      "source": []
    },
    {
      "attachments": {},
      "cell_type": "markdown",
      "metadata": {
        "id": "aacMyPNmaHHR"
      },
      "source": [
        "**2.2 Using classification accuracy rate as the evaluation measure, which model best predicts whether or not a player will be inducted?**"
      ]
    },
    {
      "attachments": {},
      "cell_type": "markdown",
      "metadata": {
        "id": "h0HLKtCxq4rj"
      },
      "source": [
        "The random forest model resulted in the best classification accuracy of 0.9778."
      ]
    },
    {
      "attachments": {},
      "cell_type": "markdown",
      "metadata": {},
      "source": []
    },
    {
      "attachments": {},
      "cell_type": "markdown",
      "metadata": {
        "id": "9BGe-12caX0M"
      },
      "source": [
        "**2.3 Using the area under the ROC curve, which model yields the largest area under the ROC curve?**"
      ]
    },
    {
      "attachments": {},
      "cell_type": "markdown",
      "metadata": {
        "id": "kEkZKODgq7uL"
      },
      "source": [
        "The adaBoost model resulted in the best ROC AUC of 0.9888."
      ]
    },
    {
      "attachments": {},
      "cell_type": "markdown",
      "metadata": {},
      "source": []
    },
    {
      "attachments": {},
      "cell_type": "markdown",
      "metadata": {
        "id": "sTkg4DqPbRvR"
      },
      "source": [
        "**2.4 Given our goal is to identify and invest in a set of players likely to be inducted to the Hall of Fame, which\n",
        "of the two measures above (classification accuracy rate or ROC area) is more appropriate for selecting the\n",
        "model to inform our investments?**"
      ]
    },
    {
      "attachments": {},
      "cell_type": "markdown",
      "metadata": {
        "id": "9dtvXKM8q1Xq"
      },
      "source": [
        "Since our goal is to identify and invest in a set of players likely to be inducted into the Hall of Fame, the ROC area is a more appropriate measure than the classification accuracy rate for selecting the model to inform investments. The reason for this is that the ROC area takes into account both the true positive rate and the false positive rate, whereas the classification accuracy rate only considers the number of correct predictions. When investing in players, it is important to minimize false positives, as this could lead to a loss of investment."
      ]
    },
    {
      "attachments": {},
      "cell_type": "markdown",
      "metadata": {},
      "source": []
    },
    {
      "attachments": {},
      "cell_type": "markdown",
      "metadata": {
        "id": "bgEalGTVbyzr"
      },
      "source": [
        "## 3. Analysis and Model Improvement"
      ]
    },
    {
      "attachments": {},
      "cell_type": "markdown",
      "metadata": {
        "id": "8_tYoR0mb_hQ"
      },
      "source": [
        "**3.1 Using a correlation matrix on the dataframe, we will list the three best predictors of a player’s future induction to the hall of fame (in other words, the three best predictors of the column 'class'). We will explore further measures for evaluating the significance of features using the SelectKBest function, specifically focusing on \"information gain\" and \"Chi-square.\"**"
      ]
    },
    {
      "cell_type": "code",
      "execution_count": 14,
      "metadata": {},
      "outputs": [
        {
          "data": {
            "text/html": [
              "<div>\n",
              "<style scoped>\n",
              "    .dataframe tbody tr th:only-of-type {\n",
              "        vertical-align: middle;\n",
              "    }\n",
              "\n",
              "    .dataframe tbody tr th {\n",
              "        vertical-align: top;\n",
              "    }\n",
              "\n",
              "    .dataframe thead th {\n",
              "        text-align: right;\n",
              "    }\n",
              "</style>\n",
              "<table border=\"1\" class=\"dataframe\">\n",
              "  <thead>\n",
              "    <tr style=\"text-align: right;\">\n",
              "      <th></th>\n",
              "      <th>games</th>\n",
              "      <th>minutes</th>\n",
              "      <th>pts</th>\n",
              "      <th>offReb</th>\n",
              "      <th>defReb</th>\n",
              "      <th>reb</th>\n",
              "      <th>asts</th>\n",
              "      <th>stl</th>\n",
              "      <th>blk</th>\n",
              "      <th>turnover</th>\n",
              "      <th>...</th>\n",
              "      <th>firstSeason</th>\n",
              "      <th>lastSeason</th>\n",
              "      <th>careerEnded</th>\n",
              "      <th>yrsRetired2004</th>\n",
              "      <th>class</th>\n",
              "      <th>league_A</th>\n",
              "      <th>league_N</th>\n",
              "      <th>Position_C</th>\n",
              "      <th>Position_F</th>\n",
              "      <th>Position_G</th>\n",
              "    </tr>\n",
              "  </thead>\n",
              "  <tbody>\n",
              "    <tr>\n",
              "      <th>games</th>\n",
              "      <td>1.000000</td>\n",
              "      <td>0.953258</td>\n",
              "      <td>0.895645</td>\n",
              "      <td>0.643298</td>\n",
              "      <td>0.693944</td>\n",
              "      <td>0.767510</td>\n",
              "      <td>0.777735</td>\n",
              "      <td>0.711301</td>\n",
              "      <td>0.582934</td>\n",
              "      <td>0.689069</td>\n",
              "      <td>...</td>\n",
              "      <td>0.010155</td>\n",
              "      <td>0.237790</td>\n",
              "      <td>-0.012067</td>\n",
              "      <td>-0.237790</td>\n",
              "      <td>0.510749</td>\n",
              "      <td>-0.166811</td>\n",
              "      <td>0.166811</td>\n",
              "      <td>0.136863</td>\n",
              "      <td>-0.093335</td>\n",
              "      <td>-0.009454</td>\n",
              "    </tr>\n",
              "    <tr>\n",
              "      <th>minutes</th>\n",
              "      <td>0.953258</td>\n",
              "      <td>1.000000</td>\n",
              "      <td>0.963760</td>\n",
              "      <td>0.610685</td>\n",
              "      <td>0.671616</td>\n",
              "      <td>0.840868</td>\n",
              "      <td>0.843914</td>\n",
              "      <td>0.695658</td>\n",
              "      <td>0.555192</td>\n",
              "      <td>0.669661</td>\n",
              "      <td>...</td>\n",
              "      <td>-0.002545</td>\n",
              "      <td>0.212368</td>\n",
              "      <td>-0.031013</td>\n",
              "      <td>-0.212368</td>\n",
              "      <td>0.604530</td>\n",
              "      <td>-0.121015</td>\n",
              "      <td>0.121015</td>\n",
              "      <td>0.107185</td>\n",
              "      <td>-0.091934</td>\n",
              "      <td>0.011170</td>\n",
              "    </tr>\n",
              "    <tr>\n",
              "      <th>pts</th>\n",
              "      <td>0.895645</td>\n",
              "      <td>0.963760</td>\n",
              "      <td>1.000000</td>\n",
              "      <td>0.583079</td>\n",
              "      <td>0.626981</td>\n",
              "      <td>0.820116</td>\n",
              "      <td>0.816144</td>\n",
              "      <td>0.639216</td>\n",
              "      <td>0.531865</td>\n",
              "      <td>0.646553</td>\n",
              "      <td>...</td>\n",
              "      <td>-0.062675</td>\n",
              "      <td>0.141765</td>\n",
              "      <td>0.000449</td>\n",
              "      <td>-0.141765</td>\n",
              "      <td>0.682695</td>\n",
              "      <td>-0.109629</td>\n",
              "      <td>0.109629</td>\n",
              "      <td>0.094822</td>\n",
              "      <td>-0.081920</td>\n",
              "      <td>0.010463</td>\n",
              "    </tr>\n",
              "    <tr>\n",
              "      <th>offReb</th>\n",
              "      <td>0.643298</td>\n",
              "      <td>0.610685</td>\n",
              "      <td>0.583079</td>\n",
              "      <td>1.000000</td>\n",
              "      <td>0.935412</td>\n",
              "      <td>0.572880</td>\n",
              "      <td>0.318497</td>\n",
              "      <td>0.687320</td>\n",
              "      <td>0.850340</td>\n",
              "      <td>0.790521</td>\n",
              "      <td>...</td>\n",
              "      <td>0.195169</td>\n",
              "      <td>0.332797</td>\n",
              "      <td>-0.075029</td>\n",
              "      <td>-0.332797</td>\n",
              "      <td>0.228045</td>\n",
              "      <td>-0.166093</td>\n",
              "      <td>0.166093</td>\n",
              "      <td>0.181217</td>\n",
              "      <td>0.029228</td>\n",
              "      <td>-0.163188</td>\n",
              "    </tr>\n",
              "    <tr>\n",
              "      <th>defReb</th>\n",
              "      <td>0.693944</td>\n",
              "      <td>0.671616</td>\n",
              "      <td>0.626981</td>\n",
              "      <td>0.935412</td>\n",
              "      <td>1.000000</td>\n",
              "      <td>0.600277</td>\n",
              "      <td>0.400597</td>\n",
              "      <td>0.768862</td>\n",
              "      <td>0.893755</td>\n",
              "      <td>0.845233</td>\n",
              "      <td>...</td>\n",
              "      <td>0.227792</td>\n",
              "      <td>0.380346</td>\n",
              "      <td>-0.132280</td>\n",
              "      <td>-0.380346</td>\n",
              "      <td>0.228544</td>\n",
              "      <td>-0.114847</td>\n",
              "      <td>0.114847</td>\n",
              "      <td>0.189738</td>\n",
              "      <td>0.004976</td>\n",
              "      <td>-0.145594</td>\n",
              "    </tr>\n",
              "    <tr>\n",
              "      <th>reb</th>\n",
              "      <td>0.767510</td>\n",
              "      <td>0.840868</td>\n",
              "      <td>0.820116</td>\n",
              "      <td>0.572880</td>\n",
              "      <td>0.600277</td>\n",
              "      <td>1.000000</td>\n",
              "      <td>0.566685</td>\n",
              "      <td>0.410532</td>\n",
              "      <td>0.542548</td>\n",
              "      <td>0.452119</td>\n",
              "      <td>...</td>\n",
              "      <td>-0.077096</td>\n",
              "      <td>0.097790</td>\n",
              "      <td>0.008423</td>\n",
              "      <td>-0.097790</td>\n",
              "      <td>0.621141</td>\n",
              "      <td>-0.090318</td>\n",
              "      <td>0.090318</td>\n",
              "      <td>0.287260</td>\n",
              "      <td>-0.027373</td>\n",
              "      <td>-0.186009</td>\n",
              "    </tr>\n",
              "    <tr>\n",
              "      <th>asts</th>\n",
              "      <td>0.777735</td>\n",
              "      <td>0.843914</td>\n",
              "      <td>0.816144</td>\n",
              "      <td>0.318497</td>\n",
              "      <td>0.400597</td>\n",
              "      <td>0.566685</td>\n",
              "      <td>1.000000</td>\n",
              "      <td>0.642028</td>\n",
              "      <td>0.260170</td>\n",
              "      <td>0.542516</td>\n",
              "      <td>...</td>\n",
              "      <td>-0.049470</td>\n",
              "      <td>0.129335</td>\n",
              "      <td>-0.008266</td>\n",
              "      <td>-0.129335</td>\n",
              "      <td>0.533741</td>\n",
              "      <td>-0.107757</td>\n",
              "      <td>0.107757</td>\n",
              "      <td>-0.045189</td>\n",
              "      <td>-0.198064</td>\n",
              "      <td>0.228796</td>\n",
              "    </tr>\n",
              "    <tr>\n",
              "      <th>stl</th>\n",
              "      <td>0.711301</td>\n",
              "      <td>0.695658</td>\n",
              "      <td>0.639216</td>\n",
              "      <td>0.687320</td>\n",
              "      <td>0.768862</td>\n",
              "      <td>0.410532</td>\n",
              "      <td>0.642028</td>\n",
              "      <td>1.000000</td>\n",
              "      <td>0.598286</td>\n",
              "      <td>0.897182</td>\n",
              "      <td>...</td>\n",
              "      <td>0.269326</td>\n",
              "      <td>0.424220</td>\n",
              "      <td>-0.144106</td>\n",
              "      <td>-0.424220</td>\n",
              "      <td>0.174438</td>\n",
              "      <td>-0.142608</td>\n",
              "      <td>0.142608</td>\n",
              "      <td>-0.041103</td>\n",
              "      <td>-0.073846</td>\n",
              "      <td>0.103289</td>\n",
              "    </tr>\n",
              "    <tr>\n",
              "      <th>blk</th>\n",
              "      <td>0.582934</td>\n",
              "      <td>0.555192</td>\n",
              "      <td>0.531865</td>\n",
              "      <td>0.850340</td>\n",
              "      <td>0.893755</td>\n",
              "      <td>0.542548</td>\n",
              "      <td>0.260170</td>\n",
              "      <td>0.598286</td>\n",
              "      <td>1.000000</td>\n",
              "      <td>0.725795</td>\n",
              "      <td>...</td>\n",
              "      <td>0.192894</td>\n",
              "      <td>0.324558</td>\n",
              "      <td>-0.100807</td>\n",
              "      <td>-0.324558</td>\n",
              "      <td>0.226492</td>\n",
              "      <td>-0.096858</td>\n",
              "      <td>0.096858</td>\n",
              "      <td>0.287896</td>\n",
              "      <td>-0.019755</td>\n",
              "      <td>-0.193992</td>\n",
              "    </tr>\n",
              "    <tr>\n",
              "      <th>turnover</th>\n",
              "      <td>0.689069</td>\n",
              "      <td>0.669661</td>\n",
              "      <td>0.646553</td>\n",
              "      <td>0.790521</td>\n",
              "      <td>0.845233</td>\n",
              "      <td>0.452119</td>\n",
              "      <td>0.542516</td>\n",
              "      <td>0.897182</td>\n",
              "      <td>0.725795</td>\n",
              "      <td>1.000000</td>\n",
              "      <td>...</td>\n",
              "      <td>0.257917</td>\n",
              "      <td>0.411688</td>\n",
              "      <td>-0.126684</td>\n",
              "      <td>-0.411688</td>\n",
              "      <td>0.163383</td>\n",
              "      <td>-0.037313</td>\n",
              "      <td>0.037313</td>\n",
              "      <td>0.018664</td>\n",
              "      <td>-0.029045</td>\n",
              "      <td>0.014799</td>\n",
              "    </tr>\n",
              "    <tr>\n",
              "      <th>pf</th>\n",
              "      <td>0.956776</td>\n",
              "      <td>0.935405</td>\n",
              "      <td>0.894575</td>\n",
              "      <td>0.594249</td>\n",
              "      <td>0.651787</td>\n",
              "      <td>0.791160</td>\n",
              "      <td>0.742666</td>\n",
              "      <td>0.618326</td>\n",
              "      <td>0.573082</td>\n",
              "      <td>0.612931</td>\n",
              "      <td>...</td>\n",
              "      <td>-0.065656</td>\n",
              "      <td>0.153737</td>\n",
              "      <td>-0.003320</td>\n",
              "      <td>-0.153737</td>\n",
              "      <td>0.590563</td>\n",
              "      <td>-0.133040</td>\n",
              "      <td>0.133040</td>\n",
              "      <td>0.164408</td>\n",
              "      <td>-0.059111</td>\n",
              "      <td>-0.063623</td>\n",
              "    </tr>\n",
              "    <tr>\n",
              "      <th>fga</th>\n",
              "      <td>0.900575</td>\n",
              "      <td>0.961253</td>\n",
              "      <td>0.994561</td>\n",
              "      <td>0.554197</td>\n",
              "      <td>0.602644</td>\n",
              "      <td>0.809647</td>\n",
              "      <td>0.821781</td>\n",
              "      <td>0.625862</td>\n",
              "      <td>0.507285</td>\n",
              "      <td>0.621949</td>\n",
              "      <td>...</td>\n",
              "      <td>-0.084778</td>\n",
              "      <td>0.121825</td>\n",
              "      <td>0.006680</td>\n",
              "      <td>-0.121825</td>\n",
              "      <td>0.688851</td>\n",
              "      <td>-0.116373</td>\n",
              "      <td>0.116373</td>\n",
              "      <td>0.088419</td>\n",
              "      <td>-0.084792</td>\n",
              "      <td>0.018043</td>\n",
              "    </tr>\n",
              "    <tr>\n",
              "      <th>fgm</th>\n",
              "      <td>0.895389</td>\n",
              "      <td>0.962215</td>\n",
              "      <td>0.996988</td>\n",
              "      <td>0.585425</td>\n",
              "      <td>0.632373</td>\n",
              "      <td>0.826630</td>\n",
              "      <td>0.805705</td>\n",
              "      <td>0.638316</td>\n",
              "      <td>0.542339</td>\n",
              "      <td>0.644129</td>\n",
              "      <td>...</td>\n",
              "      <td>-0.059082</td>\n",
              "      <td>0.145034</td>\n",
              "      <td>0.011257</td>\n",
              "      <td>-0.145034</td>\n",
              "      <td>0.675495</td>\n",
              "      <td>-0.108275</td>\n",
              "      <td>0.108275</td>\n",
              "      <td>0.101340</td>\n",
              "      <td>-0.078745</td>\n",
              "      <td>0.002500</td>\n",
              "    </tr>\n",
              "    <tr>\n",
              "      <th>fta</th>\n",
              "      <td>0.845216</td>\n",
              "      <td>0.922821</td>\n",
              "      <td>0.965561</td>\n",
              "      <td>0.543499</td>\n",
              "      <td>0.558459</td>\n",
              "      <td>0.843102</td>\n",
              "      <td>0.784868</td>\n",
              "      <td>0.533462</td>\n",
              "      <td>0.476261</td>\n",
              "      <td>0.560393</td>\n",
              "      <td>...</td>\n",
              "      <td>-0.116862</td>\n",
              "      <td>0.078041</td>\n",
              "      <td>0.003188</td>\n",
              "      <td>-0.078041</td>\n",
              "      <td>0.711321</td>\n",
              "      <td>-0.107075</td>\n",
              "      <td>0.107075</td>\n",
              "      <td>0.129601</td>\n",
              "      <td>-0.086975</td>\n",
              "      <td>-0.010340</td>\n",
              "    </tr>\n",
              "    <tr>\n",
              "      <th>ftm</th>\n",
              "      <td>0.850185</td>\n",
              "      <td>0.922375</td>\n",
              "      <td>0.967689</td>\n",
              "      <td>0.549682</td>\n",
              "      <td>0.566156</td>\n",
              "      <td>0.786636</td>\n",
              "      <td>0.805912</td>\n",
              "      <td>0.561745</td>\n",
              "      <td>0.475588</td>\n",
              "      <td>0.585610</td>\n",
              "      <td>...</td>\n",
              "      <td>-0.112219</td>\n",
              "      <td>0.084414</td>\n",
              "      <td>0.003978</td>\n",
              "      <td>-0.084414</td>\n",
              "      <td>0.712440</td>\n",
              "      <td>-0.105164</td>\n",
              "      <td>0.105164</td>\n",
              "      <td>0.092972</td>\n",
              "      <td>-0.087247</td>\n",
              "      <td>0.017088</td>\n",
              "    </tr>\n",
              "    <tr>\n",
              "      <th>tpa</th>\n",
              "      <td>0.381144</td>\n",
              "      <td>0.387904</td>\n",
              "      <td>0.361420</td>\n",
              "      <td>0.235990</td>\n",
              "      <td>0.354991</td>\n",
              "      <td>0.138350</td>\n",
              "      <td>0.365740</td>\n",
              "      <td>0.620200</td>\n",
              "      <td>0.198751</td>\n",
              "      <td>0.543589</td>\n",
              "      <td>...</td>\n",
              "      <td>0.267717</td>\n",
              "      <td>0.342464</td>\n",
              "      <td>-0.277072</td>\n",
              "      <td>-0.342464</td>\n",
              "      <td>-0.003844</td>\n",
              "      <td>-0.062184</td>\n",
              "      <td>0.062184</td>\n",
              "      <td>-0.135362</td>\n",
              "      <td>-0.039870</td>\n",
              "      <td>0.139681</td>\n",
              "    </tr>\n",
              "    <tr>\n",
              "      <th>tpm</th>\n",
              "      <td>0.362517</td>\n",
              "      <td>0.366699</td>\n",
              "      <td>0.338827</td>\n",
              "      <td>0.205472</td>\n",
              "      <td>0.328401</td>\n",
              "      <td>0.122890</td>\n",
              "      <td>0.345422</td>\n",
              "      <td>0.586535</td>\n",
              "      <td>0.177462</td>\n",
              "      <td>0.506998</td>\n",
              "      <td>...</td>\n",
              "      <td>0.258587</td>\n",
              "      <td>0.329577</td>\n",
              "      <td>-0.268961</td>\n",
              "      <td>-0.329577</td>\n",
              "      <td>-0.010794</td>\n",
              "      <td>-0.066687</td>\n",
              "      <td>0.066687</td>\n",
              "      <td>-0.130213</td>\n",
              "      <td>-0.038834</td>\n",
              "      <td>0.134841</td>\n",
              "    </tr>\n",
              "    <tr>\n",
              "      <th>totalSeasons</th>\n",
              "      <td>0.897105</td>\n",
              "      <td>0.845283</td>\n",
              "      <td>0.795723</td>\n",
              "      <td>0.568644</td>\n",
              "      <td>0.631908</td>\n",
              "      <td>0.677434</td>\n",
              "      <td>0.696689</td>\n",
              "      <td>0.646879</td>\n",
              "      <td>0.544859</td>\n",
              "      <td>0.640875</td>\n",
              "      <td>...</td>\n",
              "      <td>0.009706</td>\n",
              "      <td>0.263507</td>\n",
              "      <td>0.011057</td>\n",
              "      <td>-0.263507</td>\n",
              "      <td>0.487037</td>\n",
              "      <td>-0.088558</td>\n",
              "      <td>0.088558</td>\n",
              "      <td>0.137163</td>\n",
              "      <td>-0.069858</td>\n",
              "      <td>-0.032824</td>\n",
              "    </tr>\n",
              "    <tr>\n",
              "      <th>firstSeason</th>\n",
              "      <td>0.010155</td>\n",
              "      <td>-0.002545</td>\n",
              "      <td>-0.062675</td>\n",
              "      <td>0.195169</td>\n",
              "      <td>0.227792</td>\n",
              "      <td>-0.077096</td>\n",
              "      <td>-0.049470</td>\n",
              "      <td>0.269326</td>\n",
              "      <td>0.192894</td>\n",
              "      <td>0.257917</td>\n",
              "      <td>...</td>\n",
              "      <td>1.000000</td>\n",
              "      <td>0.967170</td>\n",
              "      <td>-0.518963</td>\n",
              "      <td>-0.967170</td>\n",
              "      <td>-0.244907</td>\n",
              "      <td>-0.157334</td>\n",
              "      <td>0.157334</td>\n",
              "      <td>0.006553</td>\n",
              "      <td>0.074487</td>\n",
              "      <td>-0.078303</td>\n",
              "    </tr>\n",
              "    <tr>\n",
              "      <th>lastSeason</th>\n",
              "      <td>0.237790</td>\n",
              "      <td>0.212368</td>\n",
              "      <td>0.141765</td>\n",
              "      <td>0.332797</td>\n",
              "      <td>0.380346</td>\n",
              "      <td>0.097790</td>\n",
              "      <td>0.129335</td>\n",
              "      <td>0.424220</td>\n",
              "      <td>0.324558</td>\n",
              "      <td>0.411688</td>\n",
              "      <td>...</td>\n",
              "      <td>0.967170</td>\n",
              "      <td>1.000000</td>\n",
              "      <td>-0.497835</td>\n",
              "      <td>-1.000000</td>\n",
              "      <td>-0.112485</td>\n",
              "      <td>-0.174287</td>\n",
              "      <td>0.174287</td>\n",
              "      <td>0.041181</td>\n",
              "      <td>0.054104</td>\n",
              "      <td>-0.083881</td>\n",
              "    </tr>\n",
              "    <tr>\n",
              "      <th>careerEnded</th>\n",
              "      <td>-0.012067</td>\n",
              "      <td>-0.031013</td>\n",
              "      <td>0.000449</td>\n",
              "      <td>-0.075029</td>\n",
              "      <td>-0.132280</td>\n",
              "      <td>0.008423</td>\n",
              "      <td>-0.008266</td>\n",
              "      <td>-0.144106</td>\n",
              "      <td>-0.100807</td>\n",
              "      <td>-0.126684</td>\n",
              "      <td>...</td>\n",
              "      <td>-0.518963</td>\n",
              "      <td>-0.497835</td>\n",
              "      <td>1.000000</td>\n",
              "      <td>0.497835</td>\n",
              "      <td>0.111803</td>\n",
              "      <td>0.142290</td>\n",
              "      <td>-0.142290</td>\n",
              "      <td>-0.001940</td>\n",
              "      <td>-0.001459</td>\n",
              "      <td>0.002878</td>\n",
              "    </tr>\n",
              "    <tr>\n",
              "      <th>yrsRetired2004</th>\n",
              "      <td>-0.237790</td>\n",
              "      <td>-0.212368</td>\n",
              "      <td>-0.141765</td>\n",
              "      <td>-0.332797</td>\n",
              "      <td>-0.380346</td>\n",
              "      <td>-0.097790</td>\n",
              "      <td>-0.129335</td>\n",
              "      <td>-0.424220</td>\n",
              "      <td>-0.324558</td>\n",
              "      <td>-0.411688</td>\n",
              "      <td>...</td>\n",
              "      <td>-0.967170</td>\n",
              "      <td>-1.000000</td>\n",
              "      <td>0.497835</td>\n",
              "      <td>1.000000</td>\n",
              "      <td>0.112485</td>\n",
              "      <td>0.174287</td>\n",
              "      <td>-0.174287</td>\n",
              "      <td>-0.041181</td>\n",
              "      <td>-0.054104</td>\n",
              "      <td>0.083881</td>\n",
              "    </tr>\n",
              "    <tr>\n",
              "      <th>class</th>\n",
              "      <td>0.510749</td>\n",
              "      <td>0.604530</td>\n",
              "      <td>0.682695</td>\n",
              "      <td>0.228045</td>\n",
              "      <td>0.228544</td>\n",
              "      <td>0.621141</td>\n",
              "      <td>0.533741</td>\n",
              "      <td>0.174438</td>\n",
              "      <td>0.226492</td>\n",
              "      <td>0.163383</td>\n",
              "      <td>...</td>\n",
              "      <td>-0.244907</td>\n",
              "      <td>-0.112485</td>\n",
              "      <td>0.111803</td>\n",
              "      <td>0.112485</td>\n",
              "      <td>1.000000</td>\n",
              "      <td>-0.066401</td>\n",
              "      <td>0.066401</td>\n",
              "      <td>0.090247</td>\n",
              "      <td>-0.027408</td>\n",
              "      <td>-0.039893</td>\n",
              "    </tr>\n",
              "    <tr>\n",
              "      <th>league_A</th>\n",
              "      <td>-0.166811</td>\n",
              "      <td>-0.121015</td>\n",
              "      <td>-0.109629</td>\n",
              "      <td>-0.166093</td>\n",
              "      <td>-0.114847</td>\n",
              "      <td>-0.090318</td>\n",
              "      <td>-0.107757</td>\n",
              "      <td>-0.142608</td>\n",
              "      <td>-0.096858</td>\n",
              "      <td>-0.037313</td>\n",
              "      <td>...</td>\n",
              "      <td>-0.157334</td>\n",
              "      <td>-0.174287</td>\n",
              "      <td>0.142290</td>\n",
              "      <td>0.174287</td>\n",
              "      <td>-0.066401</td>\n",
              "      <td>1.000000</td>\n",
              "      <td>-1.000000</td>\n",
              "      <td>0.013445</td>\n",
              "      <td>0.030260</td>\n",
              "      <td>-0.039805</td>\n",
              "    </tr>\n",
              "    <tr>\n",
              "      <th>league_N</th>\n",
              "      <td>0.166811</td>\n",
              "      <td>0.121015</td>\n",
              "      <td>0.109629</td>\n",
              "      <td>0.166093</td>\n",
              "      <td>0.114847</td>\n",
              "      <td>0.090318</td>\n",
              "      <td>0.107757</td>\n",
              "      <td>0.142608</td>\n",
              "      <td>0.096858</td>\n",
              "      <td>0.037313</td>\n",
              "      <td>...</td>\n",
              "      <td>0.157334</td>\n",
              "      <td>0.174287</td>\n",
              "      <td>-0.142290</td>\n",
              "      <td>-0.174287</td>\n",
              "      <td>0.066401</td>\n",
              "      <td>-1.000000</td>\n",
              "      <td>1.000000</td>\n",
              "      <td>-0.013445</td>\n",
              "      <td>-0.030260</td>\n",
              "      <td>0.039805</td>\n",
              "    </tr>\n",
              "    <tr>\n",
              "      <th>Position_C</th>\n",
              "      <td>0.136863</td>\n",
              "      <td>0.107185</td>\n",
              "      <td>0.094822</td>\n",
              "      <td>0.181217</td>\n",
              "      <td>0.189738</td>\n",
              "      <td>0.287260</td>\n",
              "      <td>-0.045189</td>\n",
              "      <td>-0.041103</td>\n",
              "      <td>0.287896</td>\n",
              "      <td>0.018664</td>\n",
              "      <td>...</td>\n",
              "      <td>0.006553</td>\n",
              "      <td>0.041181</td>\n",
              "      <td>-0.001940</td>\n",
              "      <td>-0.041181</td>\n",
              "      <td>0.090247</td>\n",
              "      <td>0.013445</td>\n",
              "      <td>-0.013445</td>\n",
              "      <td>1.000000</td>\n",
              "      <td>-0.356982</td>\n",
              "      <td>-0.389502</td>\n",
              "    </tr>\n",
              "    <tr>\n",
              "      <th>Position_F</th>\n",
              "      <td>-0.093335</td>\n",
              "      <td>-0.091934</td>\n",
              "      <td>-0.081920</td>\n",
              "      <td>0.029228</td>\n",
              "      <td>0.004976</td>\n",
              "      <td>-0.027373</td>\n",
              "      <td>-0.198064</td>\n",
              "      <td>-0.073846</td>\n",
              "      <td>-0.019755</td>\n",
              "      <td>-0.029045</td>\n",
              "      <td>...</td>\n",
              "      <td>0.074487</td>\n",
              "      <td>0.054104</td>\n",
              "      <td>-0.001459</td>\n",
              "      <td>-0.054104</td>\n",
              "      <td>-0.027408</td>\n",
              "      <td>0.030260</td>\n",
              "      <td>-0.030260</td>\n",
              "      <td>-0.356982</td>\n",
              "      <td>1.000000</td>\n",
              "      <td>-0.721296</td>\n",
              "    </tr>\n",
              "    <tr>\n",
              "      <th>Position_G</th>\n",
              "      <td>-0.009454</td>\n",
              "      <td>0.011170</td>\n",
              "      <td>0.010463</td>\n",
              "      <td>-0.163188</td>\n",
              "      <td>-0.145594</td>\n",
              "      <td>-0.186009</td>\n",
              "      <td>0.228796</td>\n",
              "      <td>0.103289</td>\n",
              "      <td>-0.193992</td>\n",
              "      <td>0.014799</td>\n",
              "      <td>...</td>\n",
              "      <td>-0.078303</td>\n",
              "      <td>-0.083881</td>\n",
              "      <td>0.002878</td>\n",
              "      <td>0.083881</td>\n",
              "      <td>-0.039893</td>\n",
              "      <td>-0.039805</td>\n",
              "      <td>0.039805</td>\n",
              "      <td>-0.389502</td>\n",
              "      <td>-0.721296</td>\n",
              "      <td>1.000000</td>\n",
              "    </tr>\n",
              "  </tbody>\n",
              "</table>\n",
              "<p>28 rows × 28 columns</p>\n",
              "</div>"
            ],
            "text/plain": [
              "                   games   minutes       pts    offReb    defReb       reb  \\\n",
              "games           1.000000  0.953258  0.895645  0.643298  0.693944  0.767510   \n",
              "minutes         0.953258  1.000000  0.963760  0.610685  0.671616  0.840868   \n",
              "pts             0.895645  0.963760  1.000000  0.583079  0.626981  0.820116   \n",
              "offReb          0.643298  0.610685  0.583079  1.000000  0.935412  0.572880   \n",
              "defReb          0.693944  0.671616  0.626981  0.935412  1.000000  0.600277   \n",
              "reb             0.767510  0.840868  0.820116  0.572880  0.600277  1.000000   \n",
              "asts            0.777735  0.843914  0.816144  0.318497  0.400597  0.566685   \n",
              "stl             0.711301  0.695658  0.639216  0.687320  0.768862  0.410532   \n",
              "blk             0.582934  0.555192  0.531865  0.850340  0.893755  0.542548   \n",
              "turnover        0.689069  0.669661  0.646553  0.790521  0.845233  0.452119   \n",
              "pf              0.956776  0.935405  0.894575  0.594249  0.651787  0.791160   \n",
              "fga             0.900575  0.961253  0.994561  0.554197  0.602644  0.809647   \n",
              "fgm             0.895389  0.962215  0.996988  0.585425  0.632373  0.826630   \n",
              "fta             0.845216  0.922821  0.965561  0.543499  0.558459  0.843102   \n",
              "ftm             0.850185  0.922375  0.967689  0.549682  0.566156  0.786636   \n",
              "tpa             0.381144  0.387904  0.361420  0.235990  0.354991  0.138350   \n",
              "tpm             0.362517  0.366699  0.338827  0.205472  0.328401  0.122890   \n",
              "totalSeasons    0.897105  0.845283  0.795723  0.568644  0.631908  0.677434   \n",
              "firstSeason     0.010155 -0.002545 -0.062675  0.195169  0.227792 -0.077096   \n",
              "lastSeason      0.237790  0.212368  0.141765  0.332797  0.380346  0.097790   \n",
              "careerEnded    -0.012067 -0.031013  0.000449 -0.075029 -0.132280  0.008423   \n",
              "yrsRetired2004 -0.237790 -0.212368 -0.141765 -0.332797 -0.380346 -0.097790   \n",
              "class           0.510749  0.604530  0.682695  0.228045  0.228544  0.621141   \n",
              "league_A       -0.166811 -0.121015 -0.109629 -0.166093 -0.114847 -0.090318   \n",
              "league_N        0.166811  0.121015  0.109629  0.166093  0.114847  0.090318   \n",
              "Position_C      0.136863  0.107185  0.094822  0.181217  0.189738  0.287260   \n",
              "Position_F     -0.093335 -0.091934 -0.081920  0.029228  0.004976 -0.027373   \n",
              "Position_G     -0.009454  0.011170  0.010463 -0.163188 -0.145594 -0.186009   \n",
              "\n",
              "                    asts       stl       blk  turnover  ...  firstSeason  \\\n",
              "games           0.777735  0.711301  0.582934  0.689069  ...     0.010155   \n",
              "minutes         0.843914  0.695658  0.555192  0.669661  ...    -0.002545   \n",
              "pts             0.816144  0.639216  0.531865  0.646553  ...    -0.062675   \n",
              "offReb          0.318497  0.687320  0.850340  0.790521  ...     0.195169   \n",
              "defReb          0.400597  0.768862  0.893755  0.845233  ...     0.227792   \n",
              "reb             0.566685  0.410532  0.542548  0.452119  ...    -0.077096   \n",
              "asts            1.000000  0.642028  0.260170  0.542516  ...    -0.049470   \n",
              "stl             0.642028  1.000000  0.598286  0.897182  ...     0.269326   \n",
              "blk             0.260170  0.598286  1.000000  0.725795  ...     0.192894   \n",
              "turnover        0.542516  0.897182  0.725795  1.000000  ...     0.257917   \n",
              "pf              0.742666  0.618326  0.573082  0.612931  ...    -0.065656   \n",
              "fga             0.821781  0.625862  0.507285  0.621949  ...    -0.084778   \n",
              "fgm             0.805705  0.638316  0.542339  0.644129  ...    -0.059082   \n",
              "fta             0.784868  0.533462  0.476261  0.560393  ...    -0.116862   \n",
              "ftm             0.805912  0.561745  0.475588  0.585610  ...    -0.112219   \n",
              "tpa             0.365740  0.620200  0.198751  0.543589  ...     0.267717   \n",
              "tpm             0.345422  0.586535  0.177462  0.506998  ...     0.258587   \n",
              "totalSeasons    0.696689  0.646879  0.544859  0.640875  ...     0.009706   \n",
              "firstSeason    -0.049470  0.269326  0.192894  0.257917  ...     1.000000   \n",
              "lastSeason      0.129335  0.424220  0.324558  0.411688  ...     0.967170   \n",
              "careerEnded    -0.008266 -0.144106 -0.100807 -0.126684  ...    -0.518963   \n",
              "yrsRetired2004 -0.129335 -0.424220 -0.324558 -0.411688  ...    -0.967170   \n",
              "class           0.533741  0.174438  0.226492  0.163383  ...    -0.244907   \n",
              "league_A       -0.107757 -0.142608 -0.096858 -0.037313  ...    -0.157334   \n",
              "league_N        0.107757  0.142608  0.096858  0.037313  ...     0.157334   \n",
              "Position_C     -0.045189 -0.041103  0.287896  0.018664  ...     0.006553   \n",
              "Position_F     -0.198064 -0.073846 -0.019755 -0.029045  ...     0.074487   \n",
              "Position_G      0.228796  0.103289 -0.193992  0.014799  ...    -0.078303   \n",
              "\n",
              "                lastSeason  careerEnded  yrsRetired2004     class  league_A  \\\n",
              "games             0.237790    -0.012067       -0.237790  0.510749 -0.166811   \n",
              "minutes           0.212368    -0.031013       -0.212368  0.604530 -0.121015   \n",
              "pts               0.141765     0.000449       -0.141765  0.682695 -0.109629   \n",
              "offReb            0.332797    -0.075029       -0.332797  0.228045 -0.166093   \n",
              "defReb            0.380346    -0.132280       -0.380346  0.228544 -0.114847   \n",
              "reb               0.097790     0.008423       -0.097790  0.621141 -0.090318   \n",
              "asts              0.129335    -0.008266       -0.129335  0.533741 -0.107757   \n",
              "stl               0.424220    -0.144106       -0.424220  0.174438 -0.142608   \n",
              "blk               0.324558    -0.100807       -0.324558  0.226492 -0.096858   \n",
              "turnover          0.411688    -0.126684       -0.411688  0.163383 -0.037313   \n",
              "pf                0.153737    -0.003320       -0.153737  0.590563 -0.133040   \n",
              "fga               0.121825     0.006680       -0.121825  0.688851 -0.116373   \n",
              "fgm               0.145034     0.011257       -0.145034  0.675495 -0.108275   \n",
              "fta               0.078041     0.003188       -0.078041  0.711321 -0.107075   \n",
              "ftm               0.084414     0.003978       -0.084414  0.712440 -0.105164   \n",
              "tpa               0.342464    -0.277072       -0.342464 -0.003844 -0.062184   \n",
              "tpm               0.329577    -0.268961       -0.329577 -0.010794 -0.066687   \n",
              "totalSeasons      0.263507     0.011057       -0.263507  0.487037 -0.088558   \n",
              "firstSeason       0.967170    -0.518963       -0.967170 -0.244907 -0.157334   \n",
              "lastSeason        1.000000    -0.497835       -1.000000 -0.112485 -0.174287   \n",
              "careerEnded      -0.497835     1.000000        0.497835  0.111803  0.142290   \n",
              "yrsRetired2004   -1.000000     0.497835        1.000000  0.112485  0.174287   \n",
              "class            -0.112485     0.111803        0.112485  1.000000 -0.066401   \n",
              "league_A         -0.174287     0.142290        0.174287 -0.066401  1.000000   \n",
              "league_N          0.174287    -0.142290       -0.174287  0.066401 -1.000000   \n",
              "Position_C        0.041181    -0.001940       -0.041181  0.090247  0.013445   \n",
              "Position_F        0.054104    -0.001459       -0.054104 -0.027408  0.030260   \n",
              "Position_G       -0.083881     0.002878        0.083881 -0.039893 -0.039805   \n",
              "\n",
              "                league_N  Position_C  Position_F  Position_G  \n",
              "games           0.166811    0.136863   -0.093335   -0.009454  \n",
              "minutes         0.121015    0.107185   -0.091934    0.011170  \n",
              "pts             0.109629    0.094822   -0.081920    0.010463  \n",
              "offReb          0.166093    0.181217    0.029228   -0.163188  \n",
              "defReb          0.114847    0.189738    0.004976   -0.145594  \n",
              "reb             0.090318    0.287260   -0.027373   -0.186009  \n",
              "asts            0.107757   -0.045189   -0.198064    0.228796  \n",
              "stl             0.142608   -0.041103   -0.073846    0.103289  \n",
              "blk             0.096858    0.287896   -0.019755   -0.193992  \n",
              "turnover        0.037313    0.018664   -0.029045    0.014799  \n",
              "pf              0.133040    0.164408   -0.059111   -0.063623  \n",
              "fga             0.116373    0.088419   -0.084792    0.018043  \n",
              "fgm             0.108275    0.101340   -0.078745    0.002500  \n",
              "fta             0.107075    0.129601   -0.086975   -0.010340  \n",
              "ftm             0.105164    0.092972   -0.087247    0.017088  \n",
              "tpa             0.062184   -0.135362   -0.039870    0.139681  \n",
              "tpm             0.066687   -0.130213   -0.038834    0.134841  \n",
              "totalSeasons    0.088558    0.137163   -0.069858   -0.032824  \n",
              "firstSeason     0.157334    0.006553    0.074487   -0.078303  \n",
              "lastSeason      0.174287    0.041181    0.054104   -0.083881  \n",
              "careerEnded    -0.142290   -0.001940   -0.001459    0.002878  \n",
              "yrsRetired2004 -0.174287   -0.041181   -0.054104    0.083881  \n",
              "class           0.066401    0.090247   -0.027408   -0.039893  \n",
              "league_A       -1.000000    0.013445    0.030260   -0.039805  \n",
              "league_N        1.000000   -0.013445   -0.030260    0.039805  \n",
              "Position_C     -0.013445    1.000000   -0.356982   -0.389502  \n",
              "Position_F     -0.030260   -0.356982    1.000000   -0.721296  \n",
              "Position_G      0.039805   -0.389502   -0.721296    1.000000  \n",
              "\n",
              "[28 rows x 28 columns]"
            ]
          },
          "execution_count": 14,
          "metadata": {},
          "output_type": "execute_result"
        }
      ],
      "source": [
        "# Create correlation matrix on the entire dataset\n",
        "corr_matrix = new_df.corr()\n",
        "corr_matrix"
      ]
    },
    {
      "cell_type": "code",
      "execution_count": 15,
      "metadata": {},
      "outputs": [
        {
          "name": "stdout",
          "output_type": "stream",
          "text": [
            "class    1.000000\n",
            "ftm      0.712440\n",
            "fta      0.711321\n",
            "fga      0.688851\n",
            "Name: class, dtype: float64\n"
          ]
        }
      ],
      "source": [
        "# The top three features based on the correlation with the class\n",
        "print(new_df.corr()['class'].sort_values(ascending=False).head(4))"
      ]
    },
    {
      "cell_type": "code",
      "execution_count": 16,
      "metadata": {
        "colab": {
          "base_uri": "https://localhost:8080/"
        },
        "id": "tc9DcdvBtrjF",
        "outputId": "8749e99d-aa4d-4a9c-b49a-95abfc9b00ea"
      },
      "outputs": [
        {
          "name": "stdout",
          "output_type": "stream",
          "text": [
            "Info gain top 3 features:  Index(['fga', 'fta', 'ftm'], dtype='object')\n",
            "Chi2 top 3 features:  Index(['minutes', 'pts', 'fga'], dtype='object')\n"
          ]
        }
      ],
      "source": [
        "from sklearn.feature_selection import SelectKBest, chi2, mutual_info_classif\n",
        "\n",
        "# apply SelectKBest to select the top 3 features based on Information gain\n",
        "selector = SelectKBest(score_func=mutual_info_classif, k=3)\n",
        "X_new = selector.fit_transform(X, y)\n",
        "# get the indices of the selected features\n",
        "selected_indices = selector.get_support(indices=True)\n",
        "# get the names of the selected features\n",
        "print(\"Info gain top 3 features: \",X.columns[selected_indices])\n",
        "\n",
        "# apply SelectKBest to select the top 3 features based on chi2\n",
        "selector_chi2 = SelectKBest(score_func=chi2, k=3)\n",
        "X_new_chi2 = selector_chi2.fit_transform(X, y)\n",
        "# get the indices of the selected features\n",
        "selected_indices_chi2 = selector_chi2.get_support(indices=True)\n",
        "# get the names of the selected features\n",
        "print(\"Chi2 top 3 features: \",X.columns[selected_indices_chi2])"
      ]
    },
    {
      "attachments": {},
      "cell_type": "markdown",
      "metadata": {
        "id": "8UQFLd0Lqv9E"
      },
      "source": [
        "Correlation is a valid ranking measure in this scenario because it quantifies the linear relationship between two variables, in this case, the relationship between each feature and a player's future induction to the Hall of Fame. A higher correlation value indicates a stronger relationship, meaning that the feature is more likely to be a good predictor of the 'class' column. However, it is important to note that correlation does not necessarily imply causation, and there may be other factors that influence a player's induction to the Hall of Fame that are not captured in the dataset. Nonetheless, correlation provides a useful starting point for identifying the most promising predictors of the 'class' column.\n",
        "\n",
        "From the top three features selected based on correlation, information gain, and Chi-square, we can see feature 'fta' is selected by all three score functions."
      ]
    },
    {
      "attachments": {},
      "cell_type": "markdown",
      "metadata": {},
      "source": []
    },
    {
      "attachments": {},
      "cell_type": "markdown",
      "metadata": {
        "id": "Oyyt9SI1fVjr"
      },
      "source": [
        "**3.2 Most predictors reflect career statistics such as points, assists, and rebounds represent a cumulative value, over a player’s career. Is this an informative predictor for both young and older players’ likelihood of being inducted to the Hall of Fame?**"
      ]
    },
    {
      "attachments": {},
      "cell_type": "markdown",
      "metadata": {
        "id": "vFUWsYy2qxiO"
      },
      "source": [
        "In my opinion, cumulative career statistics are not an informative predictor for both young and old players regarding their likelihood of being inducted into the Hall of Fame.\n",
        "\n",
        "A problem with using cumulative career statistics is that it doesn't account for the change in scoring rules. The introduction of the three-point line in 1979 means that players who are good three-point shooters are more valuable to their teams than they were before the introduction of the line. Therefore, it is a good idea to build a model to predict the points based on all the other features.\n",
        "\n",
        "Another problem with cumulative career statistics is that they are more informative for older players than younger ones. Younger players have less experience and are still developing their skills, so their career statistics may not be as indicative of their future potential as older players. One possible approach to fix this problem is to normalize the cumulative statistics based on the player's age or career length.\n",
        "\n",
        "Lastly, our cumulative career statistics also have missing values. For example, steals, blocks, and turnovers were not recorded in the NBA until 1973. A solution to this problem is to fill in the missing values with an average (if numeric) or the majority class (if categorical) based on existing values. A good Scikit-learn module that can implement this solution is SimpleImputer.  "
      ]
    },
    {
      "attachments": {},
      "cell_type": "markdown",
      "metadata": {},
      "source": []
    },
    {
      "attachments": {},
      "cell_type": "markdown",
      "metadata": {
        "id": "fIZb7GAzftwv"
      },
      "source": [
        "**3.3 Data transformation and feature selection**"
      ]
    },
    {
      "cell_type": "code",
      "execution_count": 7,
      "metadata": {},
      "outputs": [
        {
          "name": "stdout",
          "output_type": "stream",
          "text": [
            "Mean squared error for linear regression model:  -7.162415580958474e-23\n",
            "Mean squared error for regression tree model:  -316537.6259591837\n",
            "Mean squared error for random forest model:  -171893.3399724694\n",
            "Mean squared error for KNN model:  -735674.4164228571\n",
            "      pts  pts_pred\n",
            "0  5232.0    5232.0\n",
            "1   587.0     587.0\n",
            "2  1712.0    1712.0\n",
            "3   992.0     992.0\n",
            "4     7.0       7.0\n",
            "5  3268.0    3268.0\n"
          ]
        }
      ],
      "source": [
        "from copy import deepcopy\n",
        "X_transformed = deepcopy(X)\n",
        "\n",
        "\n",
        "\n",
        "#A problem with using cumulative career statistics is that it doesn't account for the change in scoring rules. \n",
        "#The introduction of the three-point line in 1979 means that players who are good three-point shooters are more valuable to their teams than they were before the introduction of the line. \n",
        "#Therefore, it is a good idea to build a model to predict the points based on all the other features. We will test out different models that can predict numerical values.\n",
        "\n",
        "#Drop the pts column and the class column (prevent data leakage)\n",
        "X_pts = new_df.drop(columns=['pts', 'class'])\n",
        "y_pts = new_df['pts']\n",
        "\n",
        "#Linear regression model\n",
        "#Import linear regression model\n",
        "from sklearn.linear_model import LinearRegression\n",
        "#Create linear regression model\n",
        "lr_pts = LinearRegression()\n",
        "#Fit the model to the data\n",
        "lr_pts.fit(X_pts, y_pts)\n",
        "#Check the mean squared error using cross validation\n",
        "from sklearn.model_selection import cross_val_score\n",
        "mse = cross_val_score(lr_pts, X_pts, y_pts, scoring='neg_mean_squared_error', cv=10)\n",
        "print('Mean squared error for linear regression model: ', mse.mean())\n",
        "\n",
        "# Regression tree model\n",
        "#Import regression tree model\n",
        "from sklearn.tree import DecisionTreeRegressor\n",
        "#Create regression tree model\n",
        "dt_pts = DecisionTreeRegressor(random_state=3)\n",
        "#Fit the model to the data\n",
        "dt_pts.fit(X_pts, y_pts)\n",
        "#Check the mean squared error using cross validation\n",
        "mse = cross_val_score(dt_pts, X_pts, y_pts, scoring='neg_mean_squared_error', cv=10)\n",
        "print('Mean squared error for regression tree model: ', mse.mean())\n",
        "\n",
        "#Random forest model\n",
        "#Import random forest model\n",
        "from sklearn.ensemble import RandomForestRegressor\n",
        "#Create random forest model\n",
        "rf_pts = RandomForestRegressor(n_estimators=100, random_state=3)\n",
        "#Fit the model to the data\n",
        "rf_pts.fit(X_pts, y_pts)\n",
        "#Check the mean squared error using cross validation\n",
        "mse = cross_val_score(rf_pts, X_pts, y_pts, scoring='neg_mean_squared_error', cv=10)\n",
        "print('Mean squared error for random forest model: ', mse.mean())\n",
        "\n",
        "#KNN model\n",
        "#Import KNN model\n",
        "from sklearn.neighbors import KNeighborsRegressor\n",
        "#Create KNN model\n",
        "knn_pts = KNeighborsRegressor(n_neighbors=5)\n",
        "#Fit the model to the data\n",
        "knn_pts.fit(X_pts, y_pts)\n",
        "#Check the mean squared error using cross validation\n",
        "mse = cross_val_score(knn_pts, X_pts, y_pts, scoring='neg_mean_squared_error', cv=10)\n",
        "print('Mean squared error for KNN model: ', mse.mean())\n",
        "\n",
        "\n",
        "\n",
        "# Clearly, the linear regression model has the lowest mean squared error, so we will use it to predict the points for each player and add it to the dataset as a new feature.\n",
        "# Predict the points for each player\n",
        "y_pts_pred = lr_pts.predict(X_pts)\n",
        "# Add the predicted points to the dataset\n",
        "X_transformed['pts_pred'] = y_pts_pred\n",
        "\n",
        "# Very good estimates of the points scored by the players\n",
        "print(X_transformed.loc[0:5, ['pts', 'pts_pred']])\n",
        "# Now we can drop the original points feature\n",
        "X_transformed = X_transformed.drop(columns='pts')"
      ]
    },
    {
      "cell_type": "code",
      "execution_count": 8,
      "metadata": {},
      "outputs": [
        {
          "name": "stdout",
          "output_type": "stream",
          "text": [
            "   games  minutes  offReb  defReb     reb   asts    stl    blk  turnover  \\\n",
            "0  408.0   9825.0   476.0   824.0  1300.0  866.0  265.0  175.0     700.0   \n",
            "1   51.0      0.0     0.0     0.0     0.0  158.0    0.0    0.0       0.0   \n",
            "2  265.0      0.0     0.0     0.0    72.0  311.0    0.0    0.0       0.0   \n",
            "3  133.0   2587.0    55.0   198.0   253.0  291.0  123.0   14.0     207.0   \n",
            "4    8.0     28.0     0.0     2.0     2.0    0.0    0.0    0.0       1.0   \n",
            "\n",
            "       pf  ...  lastSeason  careerEnded  yrsRetired2004  league_A  league_N  \\\n",
            "0  1214.0  ...      1990.0          1.0            14.0         0         1   \n",
            "1   114.0  ...      1949.0          1.0            55.0         0         1   \n",
            "2   392.0  ...      1950.0          1.0            54.0         0         1   \n",
            "3   311.0  ...      2004.0          0.0             0.0         0         1   \n",
            "4     4.0  ...      2004.0          0.0             0.0         0         1   \n",
            "\n",
            "   Position_C  Position_F  Position_G  pts_pred  pts_normalized  \n",
            "0           0           0           1    5232.0          8371.2  \n",
            "1           0           0           1     587.0          1174.0  \n",
            "2           0           0           1    1712.0          3081.6  \n",
            "3           0           0           1     992.0          1934.4  \n",
            "4           0           0           1       7.0            14.0  \n",
            "\n",
            "[5 rows x 28 columns]\n"
          ]
        }
      ],
      "source": [
        "#Another problem with cumulative career statistics is that they are more informative for older players than younger ones. \n",
        "#Younger players have less experience and are still developing their skills, so their career statistics may not be as indicative of their future potential as older players. \n",
        "#One possible approach to fix this problem is to normalize the cumulative statistics based on the player's career length.\n",
        "\n",
        "#Normalize the cumulative statistics based on the player's seasons played\n",
        "#The less seasons played, the more the points scored will be increased\n",
        "X_transformed['pts_normalized'] = (1 + np.abs((X_transformed['totalSeasons'] - X_transformed['totalSeasons'].max()) / (X_transformed['totalSeasons'].min() - X_transformed['totalSeasons'].max()))) * X_transformed['pts_pred']\n",
        "print(X_transformed.head())\n",
        "\n",
        "#Now let's drop the points_pred feature (not normalized) and only keep the normalized points (normalized by the number of seasons played)\n",
        "X_transformed = X_transformed.drop(columns='pts_pred')"
      ]
    },
    {
      "cell_type": "code",
      "execution_count": 9,
      "metadata": {},
      "outputs": [],
      "source": [
        "#Lastly, our cumulative career statistics also have missing values. For example, steals, blocks, and turnovers were not recorded in the NBA until 1973. \n",
        "#A solution to this problem is to fill in the missing values with an average (if numeric) or the majority class (if categorical) based on existing values. \n",
        "#A good Scikit-learn module that can implement this solution is SimpleImputer.  \n",
        "\n",
        "#Import SimpleImputer\n",
        "from sklearn.impute import SimpleImputer\n",
        "\n",
        "# Create a SimpleImputer object\n",
        "imputer = SimpleImputer(strategy='mean')\n",
        "imputer2= SimpleImputer(strategy='most_frequent')\n",
        "\n",
        "# Fit the imputer to the dataset\n",
        "for column in X:\n",
        "  try:\n",
        "    # If the column is not of type object (categorical), then impute using the mean\n",
        "    if X[column].dtype != \"object\":\n",
        "      X[column] = imputer.fit_transform(X[[column]])\n",
        "    # Else impute using the most frequent value\n",
        "    else:\n",
        "      X[column] = imputer2.fit_transform(X[[column]])\n",
        "  except:\n",
        "      pass"
      ]
    },
    {
      "cell_type": "code",
      "execution_count": 20,
      "metadata": {},
      "outputs": [
        {
          "name": "stdout",
          "output_type": "stream",
          "text": [
            "Selected features:  Index(['games', 'minutes', 'blk', 'turnover', 'fga', 'fgm', 'fta', 'ftm',\n",
            "       'totalSeasons', 'lastSeason', 'careerEnded', 'league_N', 'Position_C',\n",
            "       'pts_normalized'],\n",
            "      dtype='object')\n"
          ]
        }
      ],
      "source": [
        "# Now we are ready to perform feature selection using wrapper methods\n",
        "# SFS is a wrapper method that uses a base model to find the best combination of features\n",
        "from sklearn.feature_selection import SequentialFeatureSelector as SFS\n",
        "\n",
        "# Create the wrapping model using the best model we found earlier (adaBoost)\n",
        "# Here we will use the adaBoost model with the best parameters we found using grid search\n",
        "ada_best = AdaBoostClassifier(estimator=dt_best, algorithm='SAMME', learning_rate = 0.2, n_estimators=70, random_state=3)\n",
        "sfs = SFS(ada_best,n_features_to_select='auto',direction='backward',scoring='roc_auc',cv=folds,n_jobs=-1)\n",
        "\n",
        "# Fit the model and find the best combination of features\n",
        "sfs1 = sfs.fit(X_transformed, y)\n",
        "# Change X to include only the selected features from the wrapping model \n",
        "X_After_Selection=sfs1.transform(X_transformed)\n",
        "# Turn the numpy array into a pandas dataframe\n",
        "X_After_Selection=pd.DataFrame(X_After_Selection)\n",
        "\n",
        "# Print the names of the selected features\n",
        "print(\"Selected features: \",X_transformed.columns[sfs1.get_support(indices=True)])"
      ]
    },
    {
      "cell_type": "code",
      "execution_count": 21,
      "metadata": {},
      "outputs": [
        {
          "name": "stdout",
          "output_type": "stream",
          "text": [
            "Cross validation score for adaBoost model with selected features: 0.990777777777778\n",
            "Improvement in performance: 0.002000000000000224\n"
          ]
        }
      ],
      "source": [
        "# Finally, we can use the selected features to train the best model we found earlier (adaBoost) and see if the performance improves\n",
        "ada_best.fit(X_After_Selection, y)\n",
        "# Get the cross validation score for the best model with the selected features\n",
        "ada_best_cv_score = cross_val_score(ada_best, X_After_Selection, y, scoring='roc_auc', cv=folds).mean()\n",
        "# The improvement in performance is\n",
        "print('Cross validation score for adaBoost model with selected features:', ada_best_cv_score)\n",
        "print('Improvement in performance:', ada_best_cv_score - roc_auc_scores_sorted[0][1])"
      ]
    },
    {
      "attachments": {},
      "cell_type": "markdown",
      "metadata": {},
      "source": [
        "In conclusion, by predicting the points for each player and then normalizing the predicted points based on the player's career length, we are able to have a more accurate estimate of the player's future potential.\n",
        "\n",
        "After filling in the missing values, we are able to perform feature selection using wrapper methods and find the best combination of features if we use the adaBoost classifier.\n",
        "\n",
        "The features that we ended up keeping include: 'games', 'minutes', 'blk', 'turnover', 'fga', 'fgm', 'fta', 'ftm', 'totalSeasons', 'lastSeason', 'careerEnded', 'league_N', 'Position_C', 'pts_normalized'.\n",
        "\n",
        "With the best model we found earlier (adaBoost classifier) and fitting it to the selected features, we are able to increase our ROC AUC score from 0.9888 to 0.9908, a 0.0020 increase."
      ]
    },
    {
      "cell_type": "code",
      "execution_count": 13,
      "metadata": {},
      "outputs": [
        {
          "name": "stdout",
          "output_type": "stream",
          "text": [
            "Selected features:  Index(['games', 'offReb', 'defReb', 'asts', 'stl', 'blk', 'fgm', 'fta', 'ftm',\n",
            "       'totalSeasons', 'firstSeason', 'league_A', 'Position_F'],\n",
            "      dtype='object')\n"
          ]
        }
      ],
      "source": [
        "# Now we are ready to perform feature selection using wrapper methods\n",
        "# SFS is a wrapper method that uses a base model to find the best combination of features\n",
        "from sklearn.feature_selection import SequentialFeatureSelector as SFS\n",
        "\n",
        "# We will also find the best features for the second best model (random forest)\n",
        "# Create the wrapping model using the second best model we found earlier (random forest)\n",
        "# Here we will use the random forest model with the best parameters we found using grid search\n",
        "rf_best = RandomForestClassifier(max_depth=7, max_features=7, n_estimators=90, random_state=3)\n",
        "sfs2 = SFS(rf_best,n_features_to_select='auto',direction='forward',scoring='roc_auc', cv=folds, n_jobs=-1)\n",
        "\n",
        "# Fit the model and find the best combination of features\n",
        "sfs3 = sfs2.fit(X_transformed, y)\n",
        "# Change X to include only the selected features from the wrapping model\n",
        "X_After_Selection2=sfs3.transform(X_transformed)\n",
        "# Turn the numpy array into a pandas dataframe\n",
        "X_After_Selection2=pd.DataFrame(X_After_Selection2)\n",
        "\n",
        "# Print the names of the selected features\n",
        "print(\"Selected features: \",X_transformed.columns[sfs3.get_support(indices=True)])"
      ]
    },
    {
      "cell_type": "code",
      "execution_count": 23,
      "metadata": {},
      "outputs": [
        {
          "name": "stdout",
          "output_type": "stream",
          "text": [
            "Cross validation score for random forest with selected features: 0.9918333333333333\n",
            "Improvement in performance: 0.005555555555555536\n"
          ]
        }
      ],
      "source": [
        "# Finally, we can use the selected features to train the second best model we found earlier (random forest) and see if the performance improves\n",
        "rf_best.fit(X_After_Selection2, y)\n",
        "# Get the cross validation score for the second best model with the selected features\n",
        "rf_best_cv_score2 = cross_val_score(rf_best, X_After_Selection2, y, scoring='roc_auc', cv=folds).mean()\n",
        "# The improvement in performance is\n",
        "print('Cross validation score for random forest with selected features:', rf_best_cv_score2)\n",
        "print('Improvement in performance:', rf_best_cv_score2 - roc_auc_scores_sorted[1][1])"
      ]
    },
    {
      "attachments": {},
      "cell_type": "markdown",
      "metadata": {},
      "source": [
        "After filling in the missing values, we are able to perform feature selection using wrapper methods and find the best combination of features if we use the random forest classifier.\n",
        "\n",
        "The features that we ended up keeping include: 'games', 'offReb', 'defReb', 'asts', 'stl', 'blk', 'fgm', 'fta', 'ftm', 'totalSeasons', 'firstSeason', 'league_A', 'Position_F'.\n",
        "\n",
        "With the second best model we found earlier (random forest classifier) and fitting it to the selected features, we are able to increase our ROC AUC score from 0.9863 to 0.9918, a 0.0055 increase."
      ]
    },
    {
      "attachments": {},
      "cell_type": "markdown",
      "metadata": {},
      "source": [
        "Interestingly, after feature selection, the performance of the random forest model actually ended up being better than the adaBoost model.\n",
        "\n",
        "We will test out both models on the test set (manually created by splitting) to see which one performs better."
      ]
    },
    {
      "attachments": {},
      "cell_type": "markdown",
      "metadata": {},
      "source": []
    },
    {
      "attachments": {},
      "cell_type": "markdown",
      "metadata": {
        "id": "9dvcWszeha1I"
      },
      "source": [
        "## 4. Investment Decisions"
      ]
    },
    {
      "attachments": {},
      "cell_type": "markdown",
      "metadata": {
        "id": "BT48WL_khfYH"
      },
      "source": [
        "We have \\$4,000,000 at our disposal to buy players’ memorabilia. Each individual player's memorabilia costs \\$40,000 (we can buy a maximum of 100 players’ memorabilia) when the player is not a hall of famer. At this time, it is unknown whether any of the players in the test set will be inducted. We assume that the NBA will release the list of hall of famers some time in the future, before which we must decide whether to buy the memorabilia of any given player.\n",
        "\n",
        "If we invest in a player who will later be inducted to the hall of fame, our estimated revenue from selling the corresponding player’s memorabilia after the induction is \\$120,000 ( the memorabilia will\n",
        "appreciate by \\$80K). If we decide to buy a given player's memorabilia, and, to our disappointment, the player is not inducted, we will lose 50% of our initial investment in the corresponding player’s memorabilia (i.e., a loss of \\$20,000).\n",
        "\n",
        "Our goal now is to develop, evaluate, and then apply a memorabilia investment strategy. A strategy here refers to the model(s) we will use and how the predictions produced by the model(s) should be used to select the set of\n",
        "players to invest in (e.g., above what threshold to invest). In practice, the actual outcome for a player is unknown at the time an investment decision is made. Hence, in addition to our choice of predictive model to estimate the\n",
        "probability of induction to the hall of fame, our strategy must also include the threshold of the predicted probability, above which it would be profitable to invest in a player (i.e., invest if a player’s estimated probability of induction by the model is above T)."
      ]
    },
    {
      "attachments": {},
      "cell_type": "markdown",
      "metadata": {
        "id": "zToSvRP7izpS"
      },
      "source": [
        "Splitting the data into training and testing sets\n",
        "\n",
        "In what follows, we will first split the data that we modified in part 3.3 into a train and test data sets. Consider the training data as historical data that we were provided with to develop an investment strategy. The test set includes players, the memorabilia of which we are considering to invest in.\n",
        "\n",
        "We will initially use only the training (historical) data to develop and evaluate different approaches. Once we identify a winning strategy, we will apply it to make predictions for the players in the test set, and select the\n",
        "players that, per our best strategy, it would be optimal to invest in."
      ]
    },
    {
      "cell_type": "code",
      "execution_count": 24,
      "metadata": {
        "id": "MfYMS4BGnOMp"
      },
      "outputs": [],
      "source": [
        "from sklearn.model_selection import train_test_split\n",
        "#Split based on transformed data (after feature engineering for adaboost)\n",
        "X_train, X_test, y_train, y_test = train_test_split(X_After_Selection, y, test_size=0.33, random_state=3)\n",
        "#Split based on transformed data (after feature engineering for random forest)\n",
        "X_train2, X_test2, y_train2, y_test2 = train_test_split(X_After_Selection2, y, test_size=0.33, random_state=3)"
      ]
    },
    {
      "attachments": {},
      "cell_type": "markdown",
      "metadata": {
        "id": "wAiZgFixpHqr"
      },
      "source": [
        "### Produce Models, Evaluate, and Deploy Machine Learning Investment Strategy (Profitability Focused)"
      ]
    },
    {
      "attachments": {},
      "cell_type": "markdown",
      "metadata": {
        "id": "fa5UQU8-pZBK"
      },
      "source": [
        "**4.1  What evaluation measure/plot (i.e., classification accuracy rate, ROC area, lift chart, or profit chart) would be most appropriate in order to select the predictive model based on which to select players to invest in?**"
      ]
    },
    {
      "attachments": {},
      "cell_type": "markdown",
      "metadata": {
        "id": "w978o0vNqlQI"
      },
      "source": [
        "The evaluation measure that would be most appropriate in order to select the predictive model based on which to select players to invest would be the profit chart.\n",
        "\n",
        "The goal of selecting a predictive model for investing in players is to maximize profit. The profit chart provides a visual representation of the expected profit based on different decision thresholds. It takes into account not only the true positive rate (the proportion of correctly identified Hall of Fame players) but also the false positive rate (the proportion of non-Hall of Fame players incorrectly identified as Hall of Fame players) and the cost associated with each decision.\n",
        "\n",
        "The profit chart allows us to set a threshold for our investment decision based on the expected profit. By selecting the threshold that maximizes the expected profit, we can make informed investment decisions and maximize our return on investment."
      ]
    },
    {
      "attachments": {},
      "cell_type": "markdown",
      "metadata": {},
      "source": []
    },
    {
      "attachments": {},
      "cell_type": "markdown",
      "metadata": {
        "id": "_jqZjiHbph1Y"
      },
      "source": [
        "**4.2 We will use the training data with 10-fold cross-validation, as well as the evaluation measure/plot we selected in (4.1), to compare between models and to select the model that performs best.**"
      ]
    },
    {
      "cell_type": "code",
      "execution_count": 25,
      "metadata": {},
      "outputs": [
        {
          "name": "stdout",
          "output_type": "stream",
          "text": [
            "ROC AUC score for random forest on the training set:  0.9989247311827956\n",
            "Best parameters if fit random forest on the training set:  {'max_depth': 4, 'max_features': 1, 'n_estimators': 50}\n"
          ]
        }
      ],
      "source": [
        "# Since we already know from the previous sections that the best model after feature selection is actually random forest, we can use it to predict the future potential of the players in the test set\n",
        "# Fit the random forest model to the training set\n",
        "rf_grid_roc.fit(X_train2, y_train2)\n",
        "# Get the ROC AUC score for the training set using cross validation\n",
        "# The GridSearchCV object already has 10 fold cross validation, so we don't need to use cross_val_score\n",
        "print('ROC AUC score for random forest on the training set: ', rf_grid_roc.best_score_)\n",
        "print('Best parameters if fit random forest on the training set: ', rf_grid_roc.best_params_)"
      ]
    },
    {
      "cell_type": "code",
      "execution_count": 26,
      "metadata": {},
      "outputs": [
        {
          "name": "stdout",
          "output_type": "stream",
          "text": [
            "ROC AUC score for adaBoost on the training set:  0.9962007168458781\n",
            "Best parameters if fit adaBoost on the training set:  {'algorithm': 'SAMME', 'learning_rate': 0.4, 'n_estimators': 20}\n"
          ]
        }
      ],
      "source": [
        "# However, we will still look at the second best model (adaBoost) after feature selection to see if it can perform better than random forest\n",
        "# Fit the adaBoost model to the training set\n",
        "ada_grid_roc.fit(X_train, y_train)\n",
        "# Get the ROC AUC score for the training set using cross validation\n",
        "# The GridSearchCV object already has 10 fold cross validation, so we don't need to use cross_val_score\n",
        "print('ROC AUC score for adaBoost on the training set: ', ada_grid_roc.best_score_)\n",
        "print('Best parameters if fit adaBoost on the training set: ', ada_grid_roc.best_params_)"
      ]
    },
    {
      "cell_type": "code",
      "execution_count": 27,
      "metadata": {},
      "outputs": [],
      "source": [
        "# Random forest\n",
        "# Now we use cross_val_predict to get the predicted probabilities for each player in the training set\n",
        "from sklearn.model_selection import cross_val_predict\n",
        "# Random forest with the best parameters we found using the training set\n",
        "rf_best_train = RandomForestClassifier(max_depth = 4, max_features = 1, n_estimators = 50, random_state=3)\n",
        "rf_y_pred_train = cross_val_predict(rf_best_train, X_train2, y_train2, cv=folds, method='predict_proba')\n",
        "# Create a dataframe with the actual potential and the predicted probabilities\n",
        "df_rf_prob_train = pd.DataFrame({'Actual': y_train2, 'Predicted': rf_y_pred_train[:,1], 'Player': X_train2.index})\n",
        "# Sort the dataframe by the predicted probabilities\n",
        "df_rf_prob_train = df_rf_prob_train.sort_values(by='Predicted', ascending=False)"
      ]
    },
    {
      "cell_type": "code",
      "execution_count": 28,
      "metadata": {},
      "outputs": [],
      "source": [
        "# AdaBoost\n",
        "# Now we use cross_val_predict to get the predicted probabilities for each player in the training set\n",
        "# AdaBoost with the best parameters we found using the training set\n",
        "ada_best_train = AdaBoostClassifier(estimator=dt_best, algorithm='SAMME', learning_rate = 0.4, n_estimators=20, random_state=3)\n",
        "ada_y_pred_train = cross_val_predict(ada_best_train, X_train, y_train, cv=folds, method='predict_proba')\n",
        "# Create a dataframe with the actual potential and the predicted probabilities\n",
        "df_ada_prob_train = pd.DataFrame({'Actual': y_train, 'Predicted': ada_y_pred_train[:,1], 'Player': X_train.index})\n",
        "# Sort the dataframe by the predicted probabilities\n",
        "df_ada_prob_train = df_ada_prob_train.sort_values(by='Predicted', ascending=False)"
      ]
    },
    {
      "cell_type": "code",
      "execution_count": 29,
      "metadata": {},
      "outputs": [
        {
          "name": "stdout",
          "output_type": "stream",
          "text": [
            "If we use the random forest model to predict the future potential of the players in the training set, we can maximize the profit by selecting the top 27 players.\n",
            "The optimal probability threshold using the random forest model is 0.34899054037532856\n",
            "The resulting profit using the random forest model is 1660000\n",
            "If we use the adaBoost model to predict the future potential of the players in the training set, we can maximize the profit by selecting the top 24 players.\n",
            "The optimal probability threshold using the adaBoost model is 0.534599378570561\n",
            "The resulting profit using the adaBoost model is 1620000\n"
          ]
        }
      ],
      "source": [
        "# Random forest\n",
        "# Use a dictionary to store the profit\n",
        "profit_rf_train = {}\n",
        "size = 0\n",
        "profit = 0\n",
        "# Loop through the dataframe and calculate the profit\n",
        "for index, row in df_rf_prob_train.iterrows():\n",
        "    size += 1\n",
        "    if(row[0]):\n",
        "        profit += 80000\n",
        "        profit_rf_train[size] = profit\n",
        "    else:\n",
        "        profit -= 20000\n",
        "        profit_rf_train[size] = profit\n",
        "\n",
        "# What is the optimal threshold that maximizes the profit?\n",
        "profit_rf_train_sorted = sorted(profit_rf_train.items(), key=lambda x: x[1], reverse=True)\n",
        "# Get the number of targets that maximizes profit\n",
        "rf_highest_player_train = profit_rf_train_sorted[0][0]\n",
        "# The probability threshold\n",
        "prob_thresh_rf_train = df_rf_prob_train.iloc[rf_highest_player_train-1][1]\n",
        "print('If we use the random forest model to predict the future potential of the players in the training set, we can maximize the profit by selecting the top', rf_highest_player_train, 'players.')\n",
        "print('The optimal probability threshold using the random forest model is', prob_thresh_rf_train)\n",
        "# The resulting profit is\n",
        "print('The resulting profit using the random forest model is', profit_rf_train_sorted[0][1])\n",
        "\n",
        "\n",
        "# AdaBoost\n",
        "# Use a dictionary to store the profit\n",
        "profit_ada_train = {}\n",
        "size = 0\n",
        "profit = 0\n",
        "# Loop through the dataframe and calculate the profit\n",
        "for index, row in df_ada_prob_train.iterrows():\n",
        "    size += 1\n",
        "    if(row[0]):\n",
        "        profit += 80000\n",
        "        profit_ada_train[size] = profit\n",
        "    else:\n",
        "        profit -= 20000\n",
        "        profit_ada_train[size] = profit\n",
        "\n",
        "# What is the optimal threshold that maximizes the profit?\n",
        "profit_ada_train_sorted = sorted(profit_ada_train.items(), key=lambda x: x[1], reverse=True)\n",
        "# Get the number of targets that maximizes profit\n",
        "ada_highest_player_train = profit_ada_train_sorted[0][0]\n",
        "# The probability threshold\n",
        "prob_thresh_ada_train = df_ada_prob_train.iloc[ada_highest_player_train-1][1]\n",
        "print('If we use the adaBoost model to predict the future potential of the players in the training set, we can maximize the profit by selecting the top', ada_highest_player_train, 'players.')\n",
        "print('The optimal probability threshold using the adaBoost model is', prob_thresh_ada_train)\n",
        "# The resulting profit is\n",
        "print('The resulting profit using the adaBoost model is', profit_ada_train_sorted[0][1])"
      ]
    },
    {
      "cell_type": "code",
      "execution_count": 30,
      "metadata": {},
      "outputs": [
        {
          "data": {
            "image/png": "[encoded data removed]",
            "text/plain": [
              "<Figure size 1000x600 with 1 Axes>"
            ]
          },
          "metadata": {},
          "output_type": "display_data"
        }
      ],
      "source": [
        "# Plot the profit curve for the top two models\n",
        "plt.figure(figsize=(10, 6))\n",
        "plt.plot(list(profit_rf_train.keys()), list(profit_rf_train.values()), label='Random forest')\n",
        "plt.plot(list(profit_ada_train.keys()), list(profit_ada_train.values()), label='AdaBoost')\n",
        "plt.xlabel('Number of players')\n",
        "plt.ylabel('Profit')\n",
        "plt.title('Profit curve for the top two models on the training set')\n",
        "plt.legend()\n",
        "plt.show()"
      ]
    },
    {
      "attachments": {},
      "cell_type": "markdown",
      "metadata": {},
      "source": [
        "In conclusion, random forest is still the best model (with the highest profit) when fitting on a split training set. We will see if this observation continues to hold true on the test set."
      ]
    },
    {
      "attachments": {},
      "cell_type": "markdown",
      "metadata": {},
      "source": []
    },
    {
      "attachments": {},
      "cell_type": "markdown",
      "metadata": {
        "id": "VURhZZ1FqG_U"
      },
      "source": [
        "**4.3 Using the model selected in 4.2,  we will formulate clearly the investment strategy we will use to decide which players to invest in.**\n"
      ]
    },
    {
      "attachments": {},
      "cell_type": "markdown",
      "metadata": {},
      "source": [
        "The random forest model resulted in a ROC AUC score of 0.999\n",
        "\n",
        "The optimal parameters for the random forest model are: 'max_depth': 4, 'max_features': 1, 'n_estimators': 50\n",
        "\n",
        "The optimal probability threshold for the random forest model we found using the training set was 0.349"
      ]
    },
    {
      "attachments": {},
      "cell_type": "markdown",
      "metadata": {},
      "source": [
        "The adaBoost model resulted in a ROC AUC score of 0.996\n",
        "\n",
        "The optimal parameters for the adaBoost model are: 'algorithm': 'SAMME', 'learning_rate': 0.4, 'n_estimators': 20\n",
        "\n",
        "The optimal probability threshold for the adaBoost model we found using the training set was 0.535"
      ]
    },
    {
      "attachments": {},
      "cell_type": "markdown",
      "metadata": {},
      "source": []
    },
    {
      "attachments": {},
      "cell_type": "markdown",
      "metadata": {
        "id": "_xR1CrWXrvx4"
      },
      "source": [
        "**4.4 We deploy our strategy to the test set.**"
      ]
    },
    {
      "cell_type": "code",
      "execution_count": 31,
      "metadata": {},
      "outputs": [],
      "source": [
        "# Random forest\n",
        "# We use cross_val_predict to get the predicted probabilities for each player in the test set\n",
        "rf_y_pred_test = cross_val_predict(rf_best_train, X_test2, y_test2, cv=folds, method='predict_proba')\n",
        "# Create a dataframe with the acutal potential and the predicted probabilities\n",
        "df_rf_prob_test = pd.DataFrame({'Actual': y_test2, 'Predicted': rf_y_pred_test[:,1], 'Player': X_test2.index})\n",
        "# Sort the dataframe by the predicted probabilities\n",
        "df_rf_prob_test = df_rf_prob_test.sort_values(by='Predicted', ascending=False)"
      ]
    },
    {
      "cell_type": "code",
      "execution_count": 32,
      "metadata": {},
      "outputs": [],
      "source": [
        "# AdaBoost\n",
        "# We use cross_val_predict to get the predicted probabilities for each player in the test set\n",
        "ada_y_pred_test = cross_val_predict(ada_best_train, X_test, y_test, cv=folds, method='predict_proba')\n",
        "# Create a dataframe with the acutal potential and the predicted probabilities\n",
        "df_ada_prob_test = pd.DataFrame({'Actual': y_test, 'Predicted': ada_y_pred_test[:,1], 'Player': X_test.index})\n",
        "# Sort the dataframe by the predicted probabilities\n",
        "df_ada_prob_test = df_ada_prob_test.sort_values(by='Predicted', ascending=False)"
      ]
    },
    {
      "cell_type": "code",
      "execution_count": 33,
      "metadata": {
        "id": "QX40aNHjvhLB"
      },
      "outputs": [
        {
          "name": "stdout",
          "output_type": "stream",
          "text": [
            "If we use the random forest model to predict the future potential of the players in the test set, we can maximize the profit by selecting the top 29 players.\n",
            "The optimal probability threshold using the random forest model is 0.22389539196795036\n",
            "The resulting profit using the random forest model is 1220000\n",
            "If we use the adaBoost model to predict the future potential of the players in the test set, we can maximize the profit by selecting the top 21 players.\n",
            "The optimal probability threshold using the adaBoost model is 0.46466201408835733\n",
            "The resulting profit using the adaBoost model is 1180000\n"
          ]
        }
      ],
      "source": [
        "# Random forest\n",
        "# Use dictionaries to store profits\n",
        "profit_rf_test = {}\n",
        "size = 0\n",
        "profit = 0\n",
        "for index, row in df_rf_prob_test.iterrows():\n",
        "  size += 1\n",
        "  if(row[0]):\n",
        "    profit += 80000\n",
        "    profit_rf_test[size] = profit\n",
        "  else:\n",
        "    profit -= 20000\n",
        "    profit_rf_test[size] = profit\n",
        "\n",
        "#What is the optimal threshold that maximizes profit?\n",
        "#Sort the random forest model by profit\n",
        "profit_rf_test_sorted = sorted(profit_rf_test.items(), key=lambda x: x[1], reverse=True)\n",
        "#Get the number of targets that maximizes profit\n",
        "rf_highest_player_test = profit_rf_test_sorted[0][0]\n",
        "#The probability threshold\n",
        "prob_thresh_rf_test = df_rf_prob_test.iloc[rf_highest_player_test-1][1]\n",
        "\n",
        "print('If we use the random forest model to predict the future potential of the players in the test set, we can maximize the profit by selecting the top', rf_highest_player_test, 'players.')\n",
        "print('The optimal probability threshold using the random forest model is', prob_thresh_rf_test)\n",
        "# The resulting profit is\n",
        "print('The resulting profit using the random forest model is', profit_rf_test_sorted[0][1])\n",
        "\n",
        "\n",
        "# AdaBoost\n",
        "# Use dictionaries to store profits\n",
        "profit_ada_test = {}\n",
        "size = 0\n",
        "profit = 0\n",
        "for index, row in df_ada_prob_test.iterrows():\n",
        "  size += 1\n",
        "  if(row[0]):\n",
        "    profit += 80000\n",
        "    profit_ada_test[size] = profit\n",
        "  else:\n",
        "    profit -= 20000\n",
        "    profit_ada_test[size] = profit\n",
        "\n",
        "#What is the optimal threshold that maximizes profit?\n",
        "#Sort the adaBoost model by profit\n",
        "profit_ada_test_sorted = sorted(profit_ada_test.items(), key=lambda x: x[1], reverse=True)\n",
        "#Get the number of targets that maximizes profit\n",
        "ada_highest_player_test = profit_ada_test_sorted[0][0]\n",
        "#The probability threshold\n",
        "prob_thresh_ada_test = df_ada_prob_test.iloc[ada_highest_player_test-1][1]\n",
        "\n",
        "print('If we use the adaBoost model to predict the future potential of the players in the test set, we can maximize the profit by selecting the top', ada_highest_player_test, 'players.')\n",
        "print('The optimal probability threshold using the adaBoost model is', prob_thresh_ada_test)\n",
        "# The resulting profit is\n",
        "print('The resulting profit using the adaBoost model is', profit_ada_test_sorted[0][1])"
      ]
    },
    {
      "cell_type": "code",
      "execution_count": 34,
      "metadata": {},
      "outputs": [
        {
          "data": {
            "text/plain": [
              "Text(0.5, 1.0, 'Profit curve for the top two models on the test set')"
            ]
          },
          "execution_count": 34,
          "metadata": {},
          "output_type": "execute_result"
        },
        {
          "data": {
            "image/png": "[encoded data removed]",
            "text/plain": [
              "<Figure size 1000x600 with 1 Axes>"
            ]
          },
          "metadata": {},
          "output_type": "display_data"
        }
      ],
      "source": [
        "# Plot the profit curve for the top two models\n",
        "plt.figure(figsize=(10, 6))\n",
        "plt.plot(list(profit_rf_test.keys()), list(profit_rf_test.values()), label='Random forest')\n",
        "plt.plot(list(profit_ada_test.keys()), list(profit_ada_test.values()), label='AdaBoost')\n",
        "plt.xlabel('Number of players')\n",
        "plt.ylabel('Profit')\n",
        "plt.legend()\n",
        "plt.title('Profit curve for the top two models on the test set')"
      ]
    },
    {
      "attachments": {},
      "cell_type": "markdown",
      "metadata": {},
      "source": [
        "In conclusion, we can see that even on the test set, the random forest model outperforms the adaBoost model with more profit."
      ]
    },
    {
      "attachments": {},
      "cell_type": "markdown",
      "metadata": {},
      "source": []
    },
    {
      "attachments": {},
      "cell_type": "markdown",
      "metadata": {
        "id": "KoXieSjevig0"
      },
      "source": [
        "**4.5 Print the list of players (along with their example number) we will invest in, and report our profit.**"
      ]
    },
    {
      "cell_type": "code",
      "execution_count": 35,
      "metadata": {
        "id": "DxcUz_MqvrjZ"
      },
      "outputs": [
        {
          "name": "stdout",
          "output_type": "stream",
          "text": [
            "The players to select using the random forest model are:\n",
            "[ 87 353  73 114 228 397 347  14 287 394  80  24 204 330  10 310 320 209\n",
            " 179 299 466 112 175 269 340  83 194 427 123]\n",
            "The highest profit we can make using the random forest model is 1220000\n",
            "The players to select using the adaBoost model are:\n",
            "[228  73 397 394 114 209 353  80 123  24  14 347 204  87  10 427 287 290\n",
            "  83 415 340]\n",
            "The highest profit we can make using the adaBoost model is 1180000\n"
          ]
        }
      ],
      "source": [
        "# The players to select using the random forest model\n",
        "print('The players to select using the random forest model are:')\n",
        "print(df_rf_prob_test[df_rf_prob_test['Predicted'] >= prob_thresh_rf_test]['Player'].values)\n",
        "# The highest profit we can make using the random forest model\n",
        "print('The highest profit we can make using the random forest model is', profit_rf_test_sorted[0][1])\n",
        "\n",
        "# The players to select using the adaBoost model\n",
        "print('The players to select using the adaBoost model are:')\n",
        "print(df_ada_prob_test[df_ada_prob_test['Predicted'] >= prob_thresh_ada_test]['Player'].values)\n",
        "# The highest profit we can make using the adaBoost model\n",
        "print('The highest profit we can make using the adaBoost model is', profit_ada_test_sorted[0][1])"
      ]
    },
    {
      "attachments": {},
      "cell_type": "markdown",
      "metadata": {},
      "source": []
    },
    {
      "attachments": {},
      "cell_type": "markdown",
      "metadata": {},
      "source": [
        "## 5. For Competition"
      ]
    },
    {
      "attachments": {},
      "cell_type": "markdown",
      "metadata": {},
      "source": [
        "**5.1 Train on the entire sample data**"
      ]
    },
    {
      "cell_type": "code",
      "execution_count": 36,
      "metadata": {},
      "outputs": [],
      "source": [
        "# Since we now know from the previous sections that random forest and adaBoost models are the top two models,\n",
        "# we will elaborate on both models to see if we can further improve the performance of the models.\n",
        "\n",
        "# Random forest\n",
        "# We use the best random forest model we fitted in section 2, which used the entire sample data\n",
        "# We use cross_val_predict to get the predicted probabilities for each player in the entire sample data\n",
        "rf_y_pred = cross_val_predict(rf_best, X_After_Selection, y, cv=folds, method='predict_proba')\n",
        "# Create a dataframe with the acutal potential and the predicted probabilities\n",
        "df_rf_prob = pd.DataFrame({'Actual_Hall_of_Fame': y, 'Prob': rf_y_pred[:,1], 'Player': X_After_Selection.index})\n",
        "# Sort the dataframe by the predicted probabilities\n",
        "df_rf_prob = df_rf_prob.sort_values(by='Prob', ascending=False)"
      ]
    },
    {
      "cell_type": "code",
      "execution_count": 37,
      "metadata": {},
      "outputs": [],
      "source": [
        "# AdaBoost\n",
        "# We use the best adaBoost model we fitted in section 2, which used the entire sample data\n",
        "# We use cross_val_predict to get the predicted probabilities for each player in the entire sample data\n",
        "ada_y_pred = cross_val_predict(ada_best, X_After_Selection, y, cv=folds, method='predict_proba')\n",
        "# Create a dataframe with the acutal potential and the predicted probabilities\n",
        "df_ada_prob = pd.DataFrame({'Actual_Hall_of_Fame': y, 'Prob': ada_y_pred[:,1], 'Player': X_After_Selection.index})\n",
        "# Sort the dataframe by the predicted probabilities\n",
        "df_ada_prob = df_ada_prob.sort_values(by='Prob', ascending=False)"
      ]
    },
    {
      "attachments": {},
      "cell_type": "markdown",
      "metadata": {},
      "source": []
    },
    {
      "attachments": {},
      "cell_type": "markdown",
      "metadata": {},
      "source": [
        "**5.2 Find the maximum possible profit for the top two models**"
      ]
    },
    {
      "cell_type": "code",
      "execution_count": 38,
      "metadata": {},
      "outputs": [
        {
          "name": "stdout",
          "output_type": "stream",
          "text": [
            "If we use the random forest model to predict the future potential of the players on the entire sample data, we can maximize the profit by selecting the top 52 players.\n",
            "The optimal probability threshold using the random forest model is 0.25555555555555554\n",
            "The resulting profit using the random forest model is 2960000\n",
            "If we use the adaBoost model to predict the future potential of the players on the entire sample data, we can maximize the profit by selecting the top 63 players.\n",
            "The optimal probability threshold using the adaBoost model is 0.38189306741890927\n",
            "The resulting profit using the adaBoost model is 2940000\n"
          ]
        }
      ],
      "source": [
        "# After having predicted the probabilities for each player, we can now calculate the profit for each model\n",
        "\n",
        "# Random forest\n",
        "# Use dictionaries to store profits\n",
        "profit_rf = {}\n",
        "size = 0\n",
        "profit = 0\n",
        "for index, row in df_rf_prob.iterrows():\n",
        "    size += 1\n",
        "    if(row[0]):\n",
        "        profit += 80000\n",
        "        profit_rf[size] = profit\n",
        "    else:\n",
        "        profit -= 20000\n",
        "        profit_rf[size] = profit\n",
        "\n",
        "# What is the optimal threshold that maximizes profit?\n",
        "# Sort the random forest model by profit\n",
        "profit_rf_sorted = sorted(profit_rf.items(), key=lambda x: x[1], reverse=True)\n",
        "# Get the number of targets that maximizes profit\n",
        "rf_highest_player = profit_rf_sorted[0][0]\n",
        "# The probability threshold\n",
        "prob_thresh_rf = df_rf_prob.iloc[rf_highest_player-1][1]\n",
        "\n",
        "print('If we use the random forest model to predict the future potential of the players on the entire sample data, we can maximize the profit by selecting the top', rf_highest_player, 'players.')\n",
        "print('The optimal probability threshold using the random forest model is', prob_thresh_rf)\n",
        "# The resulting profit is\n",
        "print('The resulting profit using the random forest model is', profit_rf_sorted[0][1])\n",
        "\n",
        "\n",
        "# AdaBoost\n",
        "# Use dictionaries to store profits\n",
        "profit_ada = {}\n",
        "size = 0\n",
        "profit = 0\n",
        "for index, row in df_ada_prob.iterrows():\n",
        "    size += 1\n",
        "    if(row[0]):\n",
        "        profit += 80000\n",
        "        profit_ada[size] = profit\n",
        "    else:\n",
        "        profit -= 20000\n",
        "        profit_ada[size] = profit\n",
        "\n",
        "# What is the optimal threshold that maximizes profit?\n",
        "# Sort the adaBoost model by profit\n",
        "profit_ada_sorted = sorted(profit_ada.items(), key=lambda x: x[1], reverse=True)\n",
        "# Get the number of targets that maximizes profit\n",
        "ada_highest_player = profit_ada_sorted[0][0]\n",
        "# The probability threshold\n",
        "prob_thresh_ada = df_ada_prob.iloc[ada_highest_player-1][1]\n",
        "\n",
        "print('If we use the adaBoost model to predict the future potential of the players on the entire sample data, we can maximize the profit by selecting the top', ada_highest_player, 'players.')\n",
        "print('The optimal probability threshold using the adaBoost model is', prob_thresh_ada)\n",
        "# The resulting profit is\n",
        "print('The resulting profit using the adaBoost model is', profit_ada_sorted[0][1])"
      ]
    },
    {
      "cell_type": "code",
      "execution_count": 39,
      "metadata": {},
      "outputs": [
        {
          "data": {
            "text/plain": [
              "Text(0.5, 1.0, 'Profit curve for the top two models')"
            ]
          },
          "execution_count": 39,
          "metadata": {},
          "output_type": "execute_result"
        },
        {
          "data": {
            "image/png": "[encoded data removed]",
            "text/plain": [
              "<Figure size 1000x600 with 1 Axes>"
            ]
          },
          "metadata": {},
          "output_type": "display_data"
        }
      ],
      "source": [
        "# Plot the profit curve for the top two models\n",
        "plt.figure(figsize=(10, 6))\n",
        "plt.plot(list(profit_rf.keys()), list(profit_rf.values()), label='Random forest')\n",
        "plt.plot(list(profit_ada.keys()), list(profit_ada.values()), label='AdaBoost')\n",
        "plt.xlabel('Number of players')\n",
        "plt.ylabel('Profit')\n",
        "plt.legend()\n",
        "plt.title('Profit curve for the top two models')"
      ]
    },
    {
      "cell_type": "code",
      "execution_count": 40,
      "metadata": {},
      "outputs": [
        {
          "name": "stdout",
          "output_type": "stream",
          "text": [
            "The players to select using the random forest model are:\n",
            "[ 96 228  35 274 114 209 176 355 464 353 301 309  38 397 394   6 482  73\n",
            "  87  53 347 487 168  14  24 480 143  80 104 359 142 287 392  46 204  10\n",
            " 478 350 244 112  12 123 341 427 492 175  47 484 181 330  78 340 214]\n",
            "The players to select using the adaBoost model are:\n",
            "[228  73 114 301  96 355 274 464   6  24 309 176 143 209 482 397 394  87\n",
            " 359 353  46 347 392  53 487 168  35  14  38 104  80 480 492 112 142 287\n",
            " 204 427 244  10 175 179 471 214 478 123 350 435 341 437 466 354 467 484\n",
            "  47 247  98 120 475 351 415 269 340]\n"
          ]
        }
      ],
      "source": [
        "# Just for additional information...\n",
        "\n",
        "# The players to select using the random forest model\n",
        "print('The players to select using the random forest model are:')\n",
        "print(df_rf_prob[df_rf_prob['Prob'] >= prob_thresh_rf]['Player'].values)\n",
        "\n",
        "# The players to select using the adaBoost model\n",
        "print('The players to select using the adaBoost model are:')\n",
        "print(df_ada_prob[df_ada_prob['Prob'] >= prob_thresh_ada]['Player'].values)"
      ]
    },
    {
      "attachments": {},
      "cell_type": "markdown",
      "metadata": {},
      "source": []
    },
    {
      "attachments": {},
      "cell_type": "markdown",
      "metadata": {},
      "source": [
        "**5.3 Futher improve the best model (random forest) we found**"
      ]
    },
    {
      "cell_type": "code",
      "execution_count": 41,
      "metadata": {},
      "outputs": [
        {
          "name": "stdout",
          "output_type": "stream",
          "text": [
            "The best parameters for the random forest model are {'max_depth': 7, 'max_features': 9, 'min_samples_split': 3, 'n_estimators': 90}\n",
            "The best score for the random forest model is 0.9926666666666668\n"
          ]
        }
      ],
      "source": [
        "# Let's try to improve the best model, random forest, by further tuning the hyperparameters\n",
        "rf2 = RandomForestClassifier(n_estimators=100, n_jobs=-1, random_state=3)\n",
        "# Using GridSearchCV to find the best parameters for the random forest\n",
        "rf2_params = {'n_estimators': [10, 20, 30, 40, 50, 60, 70, 80, 90, 100], 'max_features': [1, 2, 3, 4, 5, 6, 7, 8, 9, 10], 'max_depth': [1, 2, 3, 4, 5, 6, 7, 8, 9, 10],\n",
        "              'min_samples_split': [2, 3, 4, 5, 6, 7, 8, 9, 10]}\n",
        "# Using GridSearchCV to find the best parameters for the random forest based on ROC AUC\n",
        "rf2_grid_roc = GridSearchCV(rf2, rf2_params, cv=folds, scoring='roc_auc')\n",
        "rf2_grid_roc.fit(X_After_Selection2, y)\n",
        "\n",
        "# The best parameters\n",
        "print('The best parameters for the random forest model are', rf2_grid_roc.best_params_)\n",
        "# The best score\n",
        "print('The best score for the random forest model is', rf2_grid_roc.best_score_)"
      ]
    },
    {
      "attachments": {},
      "cell_type": "markdown",
      "metadata": {},
      "source": [
        "We will use a greedy approach to further refine our model while saving time."
      ]
    },
    {
      "cell_type": "code",
      "execution_count": 42,
      "metadata": {},
      "outputs": [
        {
          "name": "stdout",
          "output_type": "stream",
          "text": [
            "If we use the refined random forest model to predict the future potential of the players on the entire sample data, we can maximize the profit by selecting the top 54 players.\n",
            "The optimal probability threshold using the refined random forest model is 0.24407407407407405\n",
            "The resulting profit using the refined random forest model is 3020000\n"
          ]
        }
      ],
      "source": [
        "# Refined random forest model\n",
        "rf2_best = RandomForestClassifier(n_estimators=90, max_features=9, max_depth=7, min_samples_split=3, random_state=3)\n",
        "# Using cross_val_predict to get the predicted probabilities for each player in the entire sample data\n",
        "rf2_y_pred = cross_val_predict(rf2_best, X_After_Selection2, y, cv=folds, method='predict_proba')\n",
        "# Create a dataframe with the acutal potential and the predicted probabilities\n",
        "df_rf2_prob = pd.DataFrame({'Actual_Hall_of_Fame': y, 'Prob': rf2_y_pred[:,1], 'Player': X_After_Selection2.index})\n",
        "# Sor thte dataframe by the predicted probabilities\n",
        "df_rf2_prob = df_rf2_prob.sort_values(by=['Prob'], ascending=False)\n",
        "\n",
        "# Use dictionaries to store profits\n",
        "profit_rf2 = {}\n",
        "size = 0\n",
        "profit = 0\n",
        "for index, row in df_rf2_prob.iterrows():\n",
        "    size += 1\n",
        "    if(row[0]):\n",
        "        profit += 80000\n",
        "        profit_rf2[size] = profit\n",
        "    else:\n",
        "        profit -= 20000\n",
        "        profit_rf2[size] = profit\n",
        "\n",
        "# What is the optimal threshold that maximizes profit?\n",
        "# Sort the random forest model by profit\n",
        "profit_rf2_sorted = sorted(profit_rf2.items(), key=lambda x: x[1], reverse=True)\n",
        "# Get the number of targets that maximizes profit\n",
        "rf2_highest_player = profit_rf2_sorted[0][0]\n",
        "# The probability threshold\n",
        "prob_thresh_rf2 = df_rf2_prob.iloc[rf2_highest_player-1][1]\n",
        "\n",
        "print('If we use the refined random forest model to predict the future potential of the players on the entire sample data, we can maximize the profit by selecting the top', rf2_highest_player, 'players.')\n",
        "print('The optimal probability threshold using the refined random forest model is', prob_thresh_rf2)\n",
        "# The resulting profit is\n",
        "print('The resulting profit using the refined random forest model is', profit_rf2_sorted[0][1])"
      ]
    },
    {
      "cell_type": "code",
      "execution_count": 43,
      "metadata": {},
      "outputs": [
        {
          "data": {
            "text/plain": [
              "Text(0.5, 1.0, 'Profit curve for the refined random forest model')"
            ]
          },
          "execution_count": 43,
          "metadata": {},
          "output_type": "execute_result"
        },
        {
          "data": {
            "image/png": "[encoded data removed]",
            "text/plain": [
              "<Figure size 1000x600 with 1 Axes>"
            ]
          },
          "metadata": {},
          "output_type": "display_data"
        }
      ],
      "source": [
        "# Plot the profit curve for the refined random forest model\n",
        "plt.figure(figsize=(10, 6))\n",
        "plt.plot(list(profit_rf2.keys()), list(profit_rf2.values()), label='Refined random forest')\n",
        "plt.xlabel('Number of players')\n",
        "plt.ylabel('Profit')\n",
        "plt.title('Profit curve for the refined random forest model')"
      ]
    },
    {
      "attachments": {},
      "cell_type": "markdown",
      "metadata": {},
      "source": [
        "We are able to futher develop our random forest model so that our optimal profit is increased to 3020000.\n",
        "\n",
        "The best parameters for the random forest model are 'max_depth': 7, 'max_features': 9, 'min_samples_split': 3, 'n_estimators': 90\n",
        "\n",
        "The best score for the random forest model is 0.9926666666666668\n",
        "\n",
        "If we use the refined random forest model to predict the future potential of the players on the entire sample data, we can maximize the profit by selecting the top 54 players.\n",
        "\n",
        "The optimal probability threshold using the refined random forest model is 0.24407407407407405"
      ]
    },
    {
      "attachments": {},
      "cell_type": "markdown",
      "metadata": {},
      "source": []
    },
    {
      "attachments": {},
      "cell_type": "markdown",
      "metadata": {},
      "source": [
        "**5.4 Other popular models: neural networks**"
      ]
    },
    {
      "attachments": {},
      "cell_type": "markdown",
      "metadata": {},
      "source": [
        "Find the optimal learning rate"
      ]
    },
    {
      "cell_type": "code",
      "execution_count": 15,
      "metadata": {},
      "outputs": [
        {
          "name": "stdout",
          "output_type": "stream",
          "text": [
            "{0.001: 1}\n",
            "{0.001: 1, 0.01: 1}\n",
            "{0.001: 2, 0.01: 1}\n",
            "{0.001: 3, 0.01: 1}\n",
            "{0.001: 4, 0.01: 1}\n",
            "{0.001: 4, 0.01: 1, 0.02: 1}\n",
            "{0.001: 4, 0.01: 2, 0.02: 1}\n",
            "{0.001: 5, 0.01: 2, 0.02: 1}\n",
            "{0.001: 5, 0.01: 3, 0.02: 1}\n",
            "{0.001: 5, 0.01: 3, 0.02: 1, 0.03: 1}\n",
            "The best learning rate for the neural network model is 0.001\n"
          ]
        }
      ],
      "source": [
        "# We will see if we can do better with neural networks\n",
        "# Import tensorflow\n",
        "import tensorflow as tf\n",
        "\n",
        "# Use stratified k-fold cross validation to find the best learning rate for the neural network model\n",
        "xshape = (X_transformed.shape[1],)\n",
        "learning_rates = [0.001, 0.01, 0.02, 0.03, 0.04, 0.05]\n",
        "best_rates_count = {}\n",
        "rates_scores = {}\n",
        "for i in range(10):\n",
        "    for rate in learning_rates:\n",
        "        # 10 folds cross validation using stratified k fold\n",
        "        skf = StratifiedKFold(n_splits=10, random_state=3, shuffle=True)\n",
        "        skf.get_n_splits(X_transformed, y)\n",
        "        avg_val_acc = 0\n",
        "        for train_index, test_index in skf.split(X_transformed, y):\n",
        "            X_train_NN, X_val_NN = X_transformed.iloc[train_index], X_transformed.iloc[test_index]\n",
        "            y_train_NN, y_val_NN = y.iloc[train_index], y.iloc[test_index]\n",
        "            #Sequential model, layers added one at a time\n",
        "            #Dense means the nodes are fully connected to the previous layer\n",
        "            NNmodel_adam = tf.keras.models.Sequential([\n",
        "                # The first hidden layer, with input shape\n",
        "                tf.keras.layers.Dense(128,activation=tf.nn.relu,input_shape=xshape),\n",
        "                # The next hidden layer\n",
        "                tf.keras.layers.Dense(64,activation=tf.nn.relu),\n",
        "                # The output layer\n",
        "                tf.keras.layers.Dense(1,activation=tf.nn.sigmoid)])\n",
        "            NNmodel_adam.compile(optimizer=tf.keras.optimizers.Adam(learning_rate=rate),\n",
        "                            loss='binary_crossentropy',\n",
        "                            metrics=['accuracy'])\n",
        "            # We use an epoch of 10% of the training set to help prevent overfitting\n",
        "            # We use a batch size of 10% of the training set to help prevent overfitting\n",
        "            NNmodel_adam.fit(X_train_NN,y_train_NN,validation_data=(X_val_NN,y_val_NN),epochs=int(len(X_train_NN)/10),batch_size=int(len(X_train_NN)/10),verbose=0)\n",
        "            avg_val_acc += NNmodel_adam.evaluate(X_val_NN,y_val_NN,verbose=0)[1]\n",
        "        rates_scores[rate] = avg_val_acc/10\n",
        "    # Sort the dictionary by average validation accuracy\n",
        "    rates_scores_sorted = sorted(rates_scores.items(), key=lambda x: x[1], reverse=True)\n",
        "    # The best learning rate\n",
        "    best_rate_current = rates_scores_sorted[0][0]\n",
        "    # Add the count of the highest rate in the best_rates_count dictionary\n",
        "    if best_rate_current in best_rates_count:\n",
        "        best_rates_count[best_rate_current] += 1\n",
        "    else:\n",
        "        best_rates_count[best_rate_current] = 1\n",
        "    print(best_rates_count)\n",
        "best_rate = max(best_rates_count, key=best_rates_count.get)\n",
        "print('The best learning rate for the neural network model is', best_rate)"
      ]
    },
    {
      "attachments": {},
      "cell_type": "markdown",
      "metadata": {},
      "source": [
        "Find the best neural networks model using grid search (10 folds cross validation)"
      ]
    },
    {
      "cell_type": "code",
      "execution_count": 18,
      "metadata": {},
      "outputs": [
        {
          "name": "stderr",
          "output_type": "stream",
          "text": [
            "c:\\Users\\Jack\\AppData\\Local\\Programs\\Python\\Python310\\lib\\site-packages\\joblib\\externals\\loky\\process_executor.py:700: UserWarning: A worker stopped while some jobs were given to the executor. This can be caused by a too short worker timeout or by a memory leak.\n",
            "  warnings.warn(\n"
          ]
        }
      ],
      "source": [
        "# import tensorflow\n",
        "import tensorflow as tf\n",
        "# import scikeras\n",
        "from scikeras.wrappers import KerasClassifier\n",
        "\n",
        "# create model\n",
        "xshape = (X_transformed.shape[1],)\n",
        "def create_model(dropout_rate, weight_constraint, neurons, activation='relu', optimizer='adam', init_mode='uniform'):\n",
        "    model = tf.keras.models.Sequential()\n",
        "    model.add(tf.keras.layers.Dense(neurons, input_shape=xshape, activation=activation, kernel_constraint=tf.keras.constraints.MaxNorm(weight_constraint), kernel_initializer=init_mode))\n",
        "    model.add(tf.keras.layers.Dropout(dropout_rate))\n",
        "    model.add(tf.keras.layers.Dense(neurons, activation=activation, kernel_constraint=tf.keras.constraints.MaxNorm(weight_constraint), kernel_initializer=init_mode))\n",
        "    model.add(tf.keras.layers.Dense(1, activation='sigmoid'))\n",
        "    model.compile(optimizer=optimizer, loss='binary_crossentropy', metrics=['accuracy'])\n",
        "    return model\n",
        "\n",
        "# use grid search to find the best parameters for the neural network model\n",
        "batch_size = [10, 20, 40, 60, 80, 100]\n",
        "epochs = [10, 50, 100]\n",
        "momentum = [0.0, 0.2, 0.4, 0.6, 0.8, 0.9]\n",
        "init_mode = ['uniform', 'lecun_uniform', 'normal', 'zero', 'glorot_normal', 'glorot_uniform', 'he_normal', 'he_uniform']\n",
        "activation = ['softmax', 'softplus', 'softsign', 'relu', 'tanh', 'sigmoid', 'hard_sigmoid', 'linear']\n",
        "# the weight constraint is used to limit the range of the weights, it can be used to prevent overfitting by forcing the weights to be small values \n",
        "weight_constraint = [1.0, 2.0, 3.0, 4.0, 5.0]\n",
        "# dropout_rate is used to prevent overfitting, it randomly drops nodes from the neural network during training to prevent them from being too dependent on each other\n",
        "dropout_rate = [0.0, 0.1, 0.2, 0.3, 0.4, 0.5, 0.6, 0.7, 0.8, 0.9]\n",
        "# nuber of neurons\n",
        "neurons = [8, 16, 32, 64, 128, 256]\n",
        "param_grid = dict(batch_size=batch_size, epochs=epochs, optimizer__momentum=momentum, model__init_mode=init_mode, \\\n",
        "                  model__activation=activation, model__dropout_rate=dropout_rate, model__weight_constraint=weight_constraint, model__neurons=neurons)\n",
        "# we will use the best learning rate (0.001) we found earlier\n",
        "model = KerasClassifier(model=create_model, optimizer__learning_rate = 0.001, verbose=0, random_state=3)\n",
        "# grid search with 10-fold cross validation, another measure to prevent overfitting\n",
        "grid_NN = GridSearchCV(estimator=model, param_grid=param_grid, n_jobs=-1, cv=folds, scoring='roc_auc')\n",
        "# fit the best neural network model found by grid search to the entire sample\n",
        "grid_result = grid_NN.fit(X_transformed, y)\n",
        "# summarize results\n",
        "print(\"Best: %f using %s\" % (grid_result.best_score_, grid_result.best_params_))"
      ]
    },
    {
      "attachments": {},
      "cell_type": "markdown",
      "metadata": {},
      "source": [
        "Predict using the best neural networks model found with grid search"
      ]
    },
    {
      "cell_type": "code",
      "execution_count": null,
      "metadata": {},
      "outputs": [],
      "source": [
        "# Use the best grid search model to predict the probabilities of each player being a Hall of Famer\n",
        "import copy\n",
        "df_NNmodel_grid_prob = copy.deepcopy(y)\n",
        "df_NNmodel_grid_prob = df_NNmodel_grid_prob.to_frame()\n",
        "df_NNmodel_grid_prob['prob'] = 0\n",
        "\n",
        "# Use cross_val_predict to get the probabilities of each player being a Hall of Famer\n",
        "grid_NN_pred = cross_val_predict(grid_result.best_estimator_, X_transformed, y, cv=folds, method='predict_proba')\n",
        "df_NNmodel_grid_prob['prob'] = grid_NN_pred[:,1]\n",
        "\n",
        "# Sort the dataframe by the probabilities\n",
        "df_NNmodel_grid_prob = df_NNmodel_grid_prob.sort_values(by=['prob'], ascending=False)"
      ]
    },
    {
      "cell_type": "code",
      "execution_count": null,
      "metadata": {},
      "outputs": [],
      "source": [
        "# Use dictionaries to store profits\n",
        "profit_NN = {}\n",
        "size = 0\n",
        "profit = 0\n",
        "for index, row in df_NNmodel_grid_prob.iterrows():\n",
        "    size += 1\n",
        "    if row[0]:\n",
        "        profit += 80000\n",
        "        profit_NN[size] = profit\n",
        "    else:\n",
        "        profit -= 20000\n",
        "        profit_NN[size] = profit\n",
        "\n",
        "# What is the optimal threshold that maximizes profit?\n",
        "# Sort the neural network model by profit\n",
        "profit_NN_sorted = sorted(profit_NN.items(), key=lambda x: x[1], reverse=True)\n",
        "# Get the number of targets that maximizes profit\n",
        "NN_highest_player = profit_NN_sorted[0][0]\n",
        "# The probability threshold\n",
        "prob_thresh_NN = df_NNmodel_grid_prob.iloc[(NN_highest_player-1),1]\n",
        "print('If we use the neural network model to predict the future potential of the players on the entire sample data, we can maximize the profit by selecting the top', NN_highest_player, 'players.')\n",
        "print('The optimal probability threshold using the neural network model is', prob_thresh_NN)\n",
        "# The resulting profit is\n",
        "print('The resulting profit using the neural network model is', profit_NN_sorted[0][1])"
      ]
    },
    {
      "cell_type": "code",
      "execution_count": null,
      "metadata": {},
      "outputs": [],
      "source": [
        "# Plot the profit curve for the neural network model\n",
        "plt.figure(figsize=(10, 6))\n",
        "plt.plot(list(profit_NN.keys()), list(profit_NN.values()))\n",
        "plt.xlabel('Number of players')\n",
        "plt.ylabel('Profit')\n",
        "plt.title('Profit curve for the neural network model')\n",
        "\n",
        "# The players to select using the neural network model\n",
        "print('The players to select using the neural network model are:')\n",
        "print(df_NNmodel_grid_prob[df_NNmodel_grid_prob['prob'] >= prob_thresh_NN].index)"
      ]
    },
    {
      "attachments": {},
      "cell_type": "markdown",
      "metadata": {},
      "source": []
    },
    {
      "attachments": {},
      "cell_type": "markdown",
      "metadata": {},
      "source": [
        "**5.5 Conclusion**"
      ]
    },
    {
      "attachments": {},
      "cell_type": "markdown",
      "metadata": {},
      "source": [
        "A problem with neural networks is that it is prone to overfitting. It is possible to perform GridSearchCV (10-fold cross-validation) for neural networks using the KerasClassifier from the SciKeras library. With the KerasClassifier, cross_val_predict (10 folds) can also be performed on the neural networks model like the rest of the scikit-learn models to limit overfitting.\n",
        "\n",
        "To further prevent overfitting, a dropout rate and weight constraint are included in the model. By dropping out neurons randomly, the network becomes less sensitive to the precise details of individual neurons and learns more general features that can be useful for different inputs. The addition of a weight constraint makes the model's capacity limited, causing it to become less prone to overfitting.\n",
        "\n",
        "In conclusion, although the neural networks model is, in theory, an advanced model for predicting whether an NBA player will be inducted into the Hall of Fame or not, it is computationally expensive. In my case, I am unable to finish running the GridSearchCV function even after a few hundred minutes. Therefore, if computational power is an issue, it is better to use the random forest model I found above. The random forest model resulted in a profit of $3020000 with a ROC AUC score of 0.9927."
      ]
    },
    {
      "attachments": {},
      "cell_type": "markdown",
      "metadata": {},
      "source": []
    },
    {
      "attachments": {},
      "cell_type": "markdown",
      "metadata": {
        "id": "0Bq4uoIaycIH"
      },
      "source": [
        "## Attribute Descriptions\n",
        "\n",
        "Field | Description\n",
        "------|------------\n",
        "league| N = National Basketball Association (NBA); A = American Basketball Association (ABA)\n",
        "games|games played\n",
        "minutes|minutes played\n",
        "pts|points\n",
        "offReb|offensive rebounds\n",
        "defReb|defensive rebounds\n",
        "reb|rebounds\n",
        "asts|assists\n",
        "stl|steals* (see below)\n",
        "blk|blocks* (see below)\n",
        "turnover|turnovers* (see below)\n",
        "pf|Personal Fouls\n",
        "fga|field goals attempted\n",
        "fgm|field goals made\n",
        "fta|free throws attempted\n",
        "ftm|free throws made\n",
        "tpa|three pointers attempted* (see below)\n",
        "tpm|three pointers made* (see below)\n",
        "totalSeasons|Total number of seasons played. This value is calculated as follows: \"lastSeason - firstSeason + 1\"\n",
        "position|C = Center; F = Forward; G = Guard\n",
        "firstSeason|First season played. The year corresponds to the first year of the season (i.e. a value of 2000 represents the 2000-2001 season). \n",
        "lastSeason|Last season played. The year corresponds to the first year of the season (i.e. a value of 2000 represents the 2000-2001 season). Note that 2004 (2004-2005 season) is the last year for which there is data. \n",
        "careerEnded|Boolean field for if the player's career has ended (1 if career has ended, 0 otherwise). This field was calculated as follows: if the \"lastSeason\" field is earlier than 2004, the value is 1, otherwise 0. Note that this calculation naively assumes that no players retired at the end of the 2004  season.\n",
        "yrsRetired2004|The number of seasons that a player has been retired as of the 2004-2005 season.\n",
        "class|A Boolean field showing whether or not a player was inducted to the Basketball Hall of Fame (HoF) as a player. This field has value 1 if the player has been inducted, and 0 otherwise.\n",
        "\n",
        "\n",
        "\n",
        "\n",
        "* The NBA did not have three point shots until 1979\n",
        "* Steals, Blocks and Turnovers were not recorded in the NBA until 1973"
      ]
    }
  ],
  "metadata": {
    "colab": {
      "provenance": []
    },
    "kernelspec": {
      "display_name": "Python 3",
      "name": "python3"
    },
    "language_info": {
      "codemirror_mode": {
        "name": "ipython",
        "version": 3
      },
      "file_extension": ".py",
      "mimetype": "text/x-python",
      "name": "python",
      "nbconvert_exporter": "python",
      "pygments_lexer": "ipython3",
      "version": "3.10.5"
    }
  },
  "nbformat": 4,
  "nbformat_minor": 0
}
